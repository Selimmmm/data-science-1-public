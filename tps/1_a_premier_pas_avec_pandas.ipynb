{
 "cells": [
  {
   "cell_type": "markdown",
   "id": "1503e40b",
   "metadata": {},
   "source": [
    "# [Cours] Premier pas avec `pandas`\n",
    "### <span style=\"color:#7E7E7E\"> Montrons que Pandas > Excel</span>\n",
    "\n",
    "<img src=\"../images/1/meme-excel-pandas.jpeg\"  width=\"80%\" height=\"30%\" style=\"margin:auto;\">"
   ]
  },
  {
   "cell_type": "markdown",
   "id": "567fcdb5",
   "metadata": {},
   "source": [
    "# I. Introduction à <code>pandas</code>\n",
    "***\n",
    "\n",
    "> <code>pandas</code> a été crée par le statisticen Américain Wes McKinney. Son nom provient de **\"Panel Data\"**, qui désigne un type de données multi-dimensionnelles. Ce type de données correspond par exemple à l'observation de caractéristiques de plusieurs individus, aux mêmes instants. Les structures de données de Pandas sont conçues pour gérer et analyser ce genre de données (mais pas que!). "
   ]
  },
  {
   "cell_type": "markdown",
   "id": "1cf422f0",
   "metadata": {},
   "source": [
    "## A. Vue d'ensemble de <code>pandas</code>\n",
    "***"
   ]
  },
  {
   "cell_type": "markdown",
   "id": "e8e41dcb",
   "metadata": {},
   "source": [
    "### 1. La librairie reine du stack Data en Python ...\n",
    "> Avec 36.5k stars sur Github <code>pandas</code> est la librairie Python la plus populaire pour la manipulation de données. Elle permet entre autres de lire, modifier, analyser et exporter des données de différentes natures : tabulaires, quantitatives, catégorielles (nominales et ordinales), temporelles, géospatiales...\n",
    "\n",
    "\n"
   ]
  },
  {
   "cell_type": "markdown",
   "id": "548228d6",
   "metadata": {},
   "source": [
    "### 2. ... n'a pas la place qu'elle mérite\n",
    "<span style=\"color:blue\"> Il est à noter que <code>pandas</code> est dans l'immense majorité des cas l'outil le plus important à disposition d'un Data Scientist. </span> Une attention particulière est donnée aux librairies qui permettent de : \n",
    "- modéliser ou de faire du machine learning(<code>scipy</code>, <code>statsmodels</code> , <code>sklearn</code>,  <code>keras</code> ...) \n",
    "- visualiser(<code>matplotlib</code>, <code>seaborn</code>, <code>plotly</code> ...)\n",
    "\n",
    "La modélisation, la prédiction et la visualisation sont souvent les composantes d'un projet data qui sont les plus \"sexy\".\n",
    "    \n",
    "**Pour autant, <code>pandas</code> est l'outil qui rendra possible la modélisation et la visualisation via la création et le formattage d'un dataset propre. Avoir un dataset de bonne qualité est un pré-requis indispensable pour que ces efforts soient réalisés dans de bonnes conditions.** \n",
    "\n",
    "**Lors d'entretiens, on rencontre beaucoup de candidats qui sont bien plus à l'aise avec <code>sklearn</code> qu'avec <code>pandas</code>... <span style=\"color:red\">Note de l'auteur : c'est à mon sens un red flag. On souhaite recruter des candidats qui puisse bâtir des solutions robustes, lisibles et efficaces - et qui en prennent la pleine mesure - et apprennent donc à utiliser les outils permettant ensuite de faire du Machine Learning dans les bonnes conditions.</span>**\n",
    "    \n",
    "\n"
   ]
  },
  {
   "cell_type": "markdown",
   "id": "4533970c",
   "metadata": {},
   "source": [
    "### 3. Cas d'usage\n",
    "\n",
    "<code>pandas</code> a énormément de cas d'usages. Elle permet de lire, écrire, manipuler, nettoyer, transformer, et analyser des données. De nombreuses intégrations sont facilitées (usage de base de données SQL ou MongoDB, formats hdf5, fichiers Excels ou CSV...). La librairie peut donc autant été utilisée avec un notebook pour de l'analyse que dans du code en production. Elle permet généralement de développer beaucoup plus vite qu'en implémentant en Python pur. De même, en terme de complexité temporelle, la performance est souvent meilleure.\n",
    "\n",
    "**C'est donc le premier outil vers lequel se tourner dans l'immense majorité des cas, dès que l'on veut manipuler des données tabulaires.**\n",
    "\n",
    "**La documentation officielle cite les use-cases suivant :**\n",
    "\n",
    "- Manipulation de données tabulaires de types différents (exactement comme une table SQL ou une spreadsheet Excel)\n",
    "- Manipulation de séries temporelles et données géospatiales\n",
    "- Analyse statistique (si l'analyse est simple ``pandas``peut suffire, sinon, on se servira de ``pandas``pour manipuler les données et d'une autre librairie pour l'analyse et la modélisation)\n",
    "    \n",
    "- ``pandas`` permet de facilement gérer les cas suivants : \n",
    "    - Création de DataFrames à partir d'objets déjà existants : \n",
    "        - A partir d'objets Python de base\n",
    "        - A partir d'objets ``numpy``   \n",
    "    - Changement du format des dataframes : \n",
    "        - Ajout / suppression de colonnes (variables)\n",
    "        - Ajout / suppression de lignes (observations)   \n",
    "    - Indexation des observations : \n",
    "        - Les indexes peuvent être de types différents (``string``, ``int``, ``float``, ``datetime`` ...)\n",
    "        - On peut avoir plusieurs indexes   \n",
    "    - Aggregation / \"Groupby\" : \n",
    "        - On peut facilement aggréger\n",
    "        - On peut facilement transformer les données en se basant sur une aggrégation\n",
    "    - Slicing - sélection sur un critère :\n",
    "        - Filtrer les valeurs sur une variable\n",
    "        - Filtrer les valeurs sur un index   \n",
    "    - Jointures / concaténation\n",
    "    - Reformatage / Pivot\n",
    "    - Gestion des données manquantes (représentées avec le type ``numpy.nan``) \n",
    "    - Import de données à partir de fichiers de divers types :\n",
    "        - CSV\n",
    "        - Excel\n",
    "        - Format pickle (natif Python)\n",
    "        - Format natifs SAS / R\n",
    "        - HDF5\n",
    "        - Import direct depuis ``SQL`` ou `MongoDB`   \n",
    "    - Manipulation de séries temporelles\n",
    "    - Manipulation de données géospatiales\n",
    "\n"
   ]
  },
  {
   "cell_type": "markdown",
   "id": "9919c422",
   "metadata": {},
   "source": [
    "### 4. Une note sur l'implémentation de <code>pandas</code>\n",
    "\n",
    "La librairie peut être vue comme une surcouche au-dessus de la librairie <code>numpy</code>, puisque la structure des </code>array</code> est énormément utilisée. \n",
    "\n",
    "Elle permet une manipulation des données plus proches de ce qu'on attendrait d'un logiciel de type tableur qu'avec <code>numpy</code>. Le code est plus lisible grâce à un indexing plus complet et gérant plus de types (<code>string</code>, <code>datetime</code>...), et des méthodes moins mathématiques que dans <code>numpy</code>et plus \"pratiques\". \n",
    "\n",
    "En revanche, **la vectorisation des opérations est facilitée ce qui mène (souvent) à une très bonne performance (il faut en revanche parfois vérifier si la méthode que l'on utilise est la bonne d'un point de vue de la complexité temporelle 😉 )**.\n",
    "\n",
    "<span style=\"color:purple\">Avec un niveau intermédiaire en Python, et pour atteindre un niveau plus avancé, il est très pédagogique de regarder le code source des librairies les plus utilisées ou \"ayant bonne réputation\", et d'essayer de le comprendre. [Le code source de la librairie](https://github.com/pandas-dev/pandas) ne déroge pas à la règle. L'implémentation de la classe <code>Dataframe</code> est disponible [ici](https://github.com/pandas-dev/pandas/blob/v0.22.0/pandas/core/frame.py#L236).</span>\n",
    "    "
   ]
  },
  {
   "cell_type": "markdown",
   "id": "7cb8832a",
   "metadata": {},
   "source": [
    "## B. Installation et usage\n",
    "***"
   ]
  },
  {
   "cell_type": "markdown",
   "id": "38923204",
   "metadata": {},
   "source": [
    "### 1. Installation\n",
    "\n",
    "Installation via invite de commande **bash**\n",
    "```bash\n",
    "pip install pandas\n",
    "```\n",
    "\n",
    "Installation via une cellule code d'un notebook **Python**\n",
    "```bash\n",
    "!pip install pandas\n",
    "```\n",
    "\n",
    "**Il faut parfois remplacer <code>pip</code> par <code>pip3</code> (par exemple si Python2 et Python3 cohabite sur la machine)**\n",
    "\n",
    "# TODO\n",
    "### 2. Installation dans un environnment virtuel \n",
    "```bash\n",
    "python3 -m venv env\n",
    "source env/bin/activate\n",
    "```\n",
    " \n",
    "**Pour Windows**\n",
    "https://docs.python.org/fr/3/library/venv.html#how-venvs-work"
   ]
  },
  {
   "cell_type": "markdown",
   "id": "7491ce16",
   "metadata": {},
   "source": [
    "### 3. Import dans un fichier `.py` ou `.ipynb`\n",
    "Import en **python**\n",
    "```python\n",
    "import pandas as pd\n",
    "```"
   ]
  },
  {
   "cell_type": "code",
   "execution_count": 1,
   "id": "a1eab27a",
   "metadata": {},
   "outputs": [
    {
     "data": {
      "text/plain": [
       "'1.4.1'"
      ]
     },
     "execution_count": 1,
     "metadata": {},
     "output_type": "execute_result"
    }
   ],
   "source": [
    "import pandas as pd\n",
    "pd.__version__"
   ]
  },
  {
   "cell_type": "markdown",
   "id": "3f305fde",
   "metadata": {},
   "source": [
    "### 4. Environnements de développements\n",
    "\n",
    "#### Notebooks\n",
    "\n",
    "> Cf ce notebook\n",
    "\n",
    "#### Projet Data & bonnes pratiques Git + Dev\n",
    "> Cf le projet 1 (disponible à <code>projets/2</code>)\n"
   ]
  },
  {
   "cell_type": "markdown",
   "id": "a868e94a",
   "metadata": {},
   "source": [
    "## C. Import & export de données avec <code>pandas</code>\n",
    "***\n",
    "> **Cf le projet 2 (disponible à <code>projets/2</code>)**"
   ]
  },
  {
   "cell_type": "markdown",
   "id": "0518870f",
   "metadata": {},
   "source": [
    "\n",
    "# II. Structures de données principales de <code>pandas</code>\n",
    "***\n",
    ">  <code>pandas</code> propose deux structures de données principales pour travailler avec des données : \n",
    "`Serie` et `DataFrame`. Une `Serie` est essentiellement une colonne (une variable), et une `DataFrame` est une collection de `Series` représentant un tableau.\n",
    "\n",
    "**Dans l'exemple ci-dessous, `df` est une `DataFrame` et `df['name']` et `df['age']` sont des `Serie`**. "
   ]
  },
  {
   "cell_type": "code",
   "execution_count": 1,
   "id": "4fe7444b",
   "metadata": {},
   "outputs": [
    {
     "data": {
      "text/html": [
       "<div>\n",
       "<style scoped>\n",
       "    .dataframe tbody tr th:only-of-type {\n",
       "        vertical-align: middle;\n",
       "    }\n",
       "\n",
       "    .dataframe tbody tr th {\n",
       "        vertical-align: top;\n",
       "    }\n",
       "\n",
       "    .dataframe thead th {\n",
       "        text-align: right;\n",
       "    }\n",
       "</style>\n",
       "<table border=\"1\" class=\"dataframe\">\n",
       "  <thead>\n",
       "    <tr style=\"text-align: right;\">\n",
       "      <th></th>\n",
       "      <th>name</th>\n",
       "      <th>age</th>\n",
       "    </tr>\n",
       "  </thead>\n",
       "  <tbody>\n",
       "    <tr>\n",
       "      <th>0</th>\n",
       "      <td>Don</td>\n",
       "      <td>38</td>\n",
       "    </tr>\n",
       "    <tr>\n",
       "      <th>1</th>\n",
       "      <td>Roger</td>\n",
       "      <td>56</td>\n",
       "    </tr>\n",
       "    <tr>\n",
       "      <th>2</th>\n",
       "      <td>Peggy</td>\n",
       "      <td>28</td>\n",
       "    </tr>\n",
       "  </tbody>\n",
       "</table>\n",
       "</div>"
      ],
      "text/plain": [
       "    name  age\n",
       "0    Don   38\n",
       "1  Roger   56\n",
       "2  Peggy   28"
      ]
     },
     "execution_count": 1,
     "metadata": {},
     "output_type": "execute_result"
    }
   ],
   "source": [
    "import pandas as pd\n",
    "df = pd.DataFrame([[\"Don\", 38], [\"Roger\", 56], [\"Peggy\", 28]], columns=[\"name\", \"age\"], dtype=None)\n",
    "df"
   ]
  },
  {
   "cell_type": "code",
   "execution_count": 166,
   "id": "6e3c1f8a",
   "metadata": {},
   "outputs": [
    {
     "data": {
      "text/plain": [
       "0      Don\n",
       "1    Roger\n",
       "2    Peggy\n",
       "Name: name, dtype: object"
      ]
     },
     "execution_count": 166,
     "metadata": {},
     "output_type": "execute_result"
    }
   ],
   "source": [
    "df[\"name\"]"
   ]
  },
  {
   "cell_type": "code",
   "execution_count": 167,
   "id": "07c10dc1",
   "metadata": {},
   "outputs": [
    {
     "data": {
      "text/plain": [
       "0    38\n",
       "1    56\n",
       "2    28\n",
       "Name: age, dtype: int64"
      ]
     },
     "execution_count": 167,
     "metadata": {},
     "output_type": "execute_result"
    }
   ],
   "source": [
    "df[\"age\"]"
   ]
  },
  {
   "cell_type": "markdown",
   "id": "6995d57b",
   "metadata": {},
   "source": [
    "## A. `Serie`\n",
    "***\n",
    "Une `Serie` est une structure de données unidimensionnelle, similaire à une liste, avec une \"étiquette\" (ie un index) pour chaque élément. \n",
    "\n",
    "[Lien vers la documentation officielle](https://pandas.pydata.org/docs/reference/api/pandas.Series.html)\n"
   ]
  },
  {
   "cell_type": "markdown",
   "id": "c559157e",
   "metadata": {},
   "source": [
    "### 1. Création d'une `Serie`\n",
    "On peut créer une série à partir de différentes sources, comme une liste, un `numpy.array`, ou un dictionnaire :\n"
   ]
  },
  {
   "cell_type": "code",
   "execution_count": 2,
   "id": "87b615b2",
   "metadata": {},
   "outputs": [
    {
     "name": "stdout",
     "output_type": "stream",
     "text": [
      "0    1.0\n",
      "1    3.0\n",
      "2    5.0\n",
      "3    NaN\n",
      "4    6.0\n",
      "5    8.0\n",
      "dtype: float64\n",
      "0    1.0\n",
      "1    3.0\n",
      "2    5.0\n",
      "3    NaN\n",
      "4    6.0\n",
      "5    8.0\n",
      "dtype: float64\n",
      "A    1.0\n",
      "B    3.0\n",
      "C    5.0\n",
      "D    NaN\n",
      "E    6.0\n",
      "F    8.0\n",
      "dtype: float64\n",
      "a    0.0\n",
      "b    1.0\n",
      "c    2.0\n",
      "dtype: float64\n"
     ]
    }
   ],
   "source": [
    "import pandas as pd\n",
    "import numpy as np\n",
    "\n",
    "# création d'une Serie à partir d'une liste\n",
    "s = pd.Series([1, 3, 5, np.nan, 6, 8])\n",
    "print(s)\n",
    "\n",
    "# création d'une Serie à partir d'un array\n",
    "s = pd.Series(np.array([1, 3, 5, np.nan, 6, 8]))\n",
    "print(s)\n",
    "\n",
    "# On peut spécifier un index\n",
    "s = pd.Series(np.array([1, 3, 5, np.nan, 6, 8]), index=[\"A\", \"B\", \"C\", \"D\", \"E\", \"F\"])\n",
    "print(s)\n",
    "\n",
    "# création d'une Serie à partir d'un dictionnaire - les clefs seront les index\n",
    "d = {'a': 0., 'b': 1., 'c': 2.}\n",
    "s = pd.Series(d)\n",
    "print(s)"
   ]
  },
  {
   "cell_type": "markdown",
   "id": "f1a46d36",
   "metadata": {},
   "source": [
    "### 2. Indexation et sélection de données dans une série\n",
    "Une `Serie` contient une séquence de valeurs et pour chacune d'elle un index.\n",
    "On peut accéder à une valeur via son index, où la position de son index"
   ]
  },
  {
   "cell_type": "code",
   "execution_count": 3,
   "id": "8f75d3f4",
   "metadata": {},
   "outputs": [
    {
     "name": "stdout",
     "output_type": "stream",
     "text": [
      "a    0.0\n",
      "b    1.0\n",
      "c    2.0\n",
      "dtype: float64\n"
     ]
    }
   ],
   "source": [
    "# création d'une série à partir d'un dictionnaire\n",
    "d = {'a': 0., 'b': 1., 'c': 2.}\n",
    "s = pd.Series(d)\n",
    "print(s)"
   ]
  },
  {
   "cell_type": "markdown",
   "id": "7876b3b8",
   "metadata": {},
   "source": [
    "#### a. Accès à la valeur via l'index"
   ]
  },
  {
   "cell_type": "code",
   "execution_count": 4,
   "id": "10d23bad",
   "metadata": {},
   "outputs": [
    {
     "data": {
      "text/plain": [
       "0.0"
      ]
     },
     "execution_count": 4,
     "metadata": {},
     "output_type": "execute_result"
    }
   ],
   "source": [
    "s.loc['a']"
   ]
  },
  {
   "cell_type": "markdown",
   "id": "4f7edb65",
   "metadata": {},
   "source": [
    "#### b. Accès à la valeur via la position de l'index"
   ]
  },
  {
   "cell_type": "code",
   "execution_count": 8,
   "id": "da176df8",
   "metadata": {},
   "outputs": [
    {
     "name": "stdout",
     "output_type": "stream",
     "text": [
      "0.0\n",
      "0 0.0\n",
      "1 1.0\n",
      "2 2.0\n"
     ]
    }
   ],
   "source": [
    "print(s.iloc[0])\n",
    "\n",
    "for k in range(len(s)):\n",
    "    print(k, s.iloc[k])"
   ]
  },
  {
   "cell_type": "markdown",
   "id": "fd00fe67",
   "metadata": {},
   "source": [
    "#### c. Accès à la sous-série via une condition sur les valeurs de `s`"
   ]
  },
  {
   "cell_type": "code",
   "execution_count": 9,
   "id": "5a91a17c",
   "metadata": {},
   "outputs": [
    {
     "data": {
      "text/plain": [
       "a    0.0\n",
       "b    1.0\n",
       "dtype: float64"
      ]
     },
     "execution_count": 9,
     "metadata": {},
     "output_type": "execute_result"
    }
   ],
   "source": [
    "s.loc[s<=1]"
   ]
  },
  {
   "cell_type": "markdown",
   "id": "6b6eab06",
   "metadata": {},
   "source": [
    "**Masque**"
   ]
  },
  {
   "cell_type": "code",
   "execution_count": 10,
   "id": "e9c69bd3",
   "metadata": {},
   "outputs": [
    {
     "data": {
      "text/plain": [
       "a     True\n",
       "b     True\n",
       "c    False\n",
       "dtype: bool"
      ]
     },
     "execution_count": 10,
     "metadata": {},
     "output_type": "execute_result"
    }
   ],
   "source": [
    "s<=1"
   ]
  },
  {
   "cell_type": "markdown",
   "id": "07869b6b",
   "metadata": {},
   "source": [
    "#### d. 🚨🚨🚨 Une sous-série à un élément est renvoyée"
   ]
  },
  {
   "cell_type": "code",
   "execution_count": 11,
   "id": "82912733",
   "metadata": {},
   "outputs": [
    {
     "data": {
      "text/plain": [
       "a    0.0\n",
       "dtype: float64"
      ]
     },
     "execution_count": 11,
     "metadata": {},
     "output_type": "execute_result"
    }
   ],
   "source": [
    "s.loc[s==0]"
   ]
  },
  {
   "cell_type": "markdown",
   "id": "5bb936b1",
   "metadata": {},
   "source": [
    "#### e. 🚨🚨🚨 Fonctionnent aussi mais ne pas utiliser (moins efficaces)"
   ]
  },
  {
   "cell_type": "code",
   "execution_count": 12,
   "id": "5d63f546",
   "metadata": {},
   "outputs": [
    {
     "data": {
      "text/plain": [
       "0.0"
      ]
     },
     "execution_count": 12,
     "metadata": {},
     "output_type": "execute_result"
    }
   ],
   "source": [
    "# On accès à l'élément d'index 'a'\n",
    "s['a']"
   ]
  },
  {
   "cell_type": "code",
   "execution_count": 13,
   "id": "4ca55e01",
   "metadata": {},
   "outputs": [
    {
     "data": {
      "text/plain": [
       "0.0"
      ]
     },
     "execution_count": 13,
     "metadata": {},
     "output_type": "execute_result"
    }
   ],
   "source": [
    "# On accès à l'élément d'index de position 0\n",
    "s[0]"
   ]
  },
  {
   "cell_type": "markdown",
   "id": "95991c37",
   "metadata": {},
   "source": [
    "#### f. Filtre et sélection"
   ]
  },
  {
   "cell_type": "code",
   "execution_count": 14,
   "id": "0d3ddf51",
   "metadata": {},
   "outputs": [
    {
     "data": {
      "text/plain": [
       "b    1.0\n",
       "c    2.0\n",
       "dtype: float64"
      ]
     },
     "execution_count": 14,
     "metadata": {},
     "output_type": "execute_result"
    }
   ],
   "source": [
    "# On écrit la condition entre crochets\n",
    "s[s>=1]"
   ]
  },
  {
   "cell_type": "code",
   "execution_count": 17,
   "id": "b6b175d9",
   "metadata": {},
   "outputs": [],
   "source": [
    "# Filtrer sur ce masque\n",
    "# s>=1"
   ]
  },
  {
   "cell_type": "code",
   "execution_count": 22,
   "id": "d7d5de8e",
   "metadata": {},
   "outputs": [
    {
     "name": "stdout",
     "output_type": "stream",
     "text": [
      "1.0\n",
      "1.0\n"
     ]
    },
    {
     "data": {
      "text/plain": [
       "a    0.0\n",
       "b    1.0\n",
       "dtype: float64"
      ]
     },
     "execution_count": 22,
     "metadata": {},
     "output_type": "execute_result"
    }
   ],
   "source": [
    "print(s.mean()) # la moyenne\n",
    "print(s.std()) # l'écart type\n",
    "# une condition plus compliquée\n",
    "s[s<=s.mean() + 0.5*s.std()]"
   ]
  },
  {
   "cell_type": "code",
   "execution_count": 23,
   "id": "d2b4477b",
   "metadata": {},
   "outputs": [
    {
     "data": {
      "text/plain": [
       "a    0.0\n",
       "c    2.0\n",
       "dtype: float64"
      ]
     },
     "execution_count": 23,
     "metadata": {},
     "output_type": "execute_result"
    }
   ],
   "source": [
    "s[(s==0)|(s==2)] # | = or vectorisé"
   ]
  },
  {
   "cell_type": "code",
   "execution_count": 25,
   "id": "0aa9d1b0",
   "metadata": {},
   "outputs": [
    {
     "data": {
      "text/plain": [
       "b    1.0\n",
       "dtype: float64"
      ]
     },
     "execution_count": 25,
     "metadata": {},
     "output_type": "execute_result"
    }
   ],
   "source": [
    "s[(s > 0) & (s<2)]# & = et vectorisé"
   ]
  },
  {
   "cell_type": "markdown",
   "id": "1949e36e",
   "metadata": {},
   "source": [
    "## B. `DataFrame`\n",
    "***\n",
    "Un `DataFrame` est une structure de données multi-dimensionnelle, similaire à un tableau, avec une \"étiquette\" (ie un index) pour chaque ligne et chaque colonne. \n",
    "\n",
    "[Lien vers la documentation officielle](https://pandas.pydata.org/docs/reference/api/pandas.DataFrame.html)\n"
   ]
  },
  {
   "cell_type": "markdown",
   "id": "02ae80eb",
   "metadata": {},
   "source": [
    "### 1. Création d'un DataFrame"
   ]
  },
  {
   "cell_type": "markdown",
   "id": "c6214818",
   "metadata": {},
   "source": [
    "#### a. En utilisant des dictionnaires \n",
    "\n",
    "On peut créer un DataFrame en utilisant un dictionnaire en Python. Chaque clé du dictionnaire représente une colonne et chaque valeur représente les données pour cette colonne."
   ]
  },
  {
   "cell_type": "code",
   "execution_count": 26,
   "id": "4e9f0054",
   "metadata": {},
   "outputs": [
    {
     "data": {
      "text/html": [
       "<div>\n",
       "<style scoped>\n",
       "    .dataframe tbody tr th:only-of-type {\n",
       "        vertical-align: middle;\n",
       "    }\n",
       "\n",
       "    .dataframe tbody tr th {\n",
       "        vertical-align: top;\n",
       "    }\n",
       "\n",
       "    .dataframe thead th {\n",
       "        text-align: right;\n",
       "    }\n",
       "</style>\n",
       "<table border=\"1\" class=\"dataframe\">\n",
       "  <thead>\n",
       "    <tr style=\"text-align: right;\">\n",
       "      <th></th>\n",
       "      <th>col1</th>\n",
       "      <th>col2</th>\n",
       "      <th>col3</th>\n",
       "    </tr>\n",
       "  </thead>\n",
       "  <tbody>\n",
       "    <tr>\n",
       "      <th>0</th>\n",
       "      <td>1</td>\n",
       "      <td>4</td>\n",
       "      <td>7</td>\n",
       "    </tr>\n",
       "    <tr>\n",
       "      <th>1</th>\n",
       "      <td>2</td>\n",
       "      <td>5</td>\n",
       "      <td>8</td>\n",
       "    </tr>\n",
       "    <tr>\n",
       "      <th>2</th>\n",
       "      <td>3</td>\n",
       "      <td>6</td>\n",
       "      <td>9</td>\n",
       "    </tr>\n",
       "  </tbody>\n",
       "</table>\n",
       "</div>"
      ],
      "text/plain": [
       "   col1  col2  col3\n",
       "0     1     4     7\n",
       "1     2     5     8\n",
       "2     3     6     9"
      ]
     },
     "execution_count": 26,
     "metadata": {},
     "output_type": "execute_result"
    }
   ],
   "source": [
    "# Création d'un dictionnaire\n",
    "data = {'col1': [1, 2, 3], 'col2': [4, 5, 6], 'col3': [7, 8, 9]}\n",
    "\n",
    "# Création d'un DataFrame en utilisant le dictionnaire\n",
    "df = pd.DataFrame(data)\n",
    "\n",
    "# Afficher le DataFrame\n",
    "df"
   ]
  },
  {
   "cell_type": "markdown",
   "id": "43681cf1",
   "metadata": {},
   "source": [
    "#### b. En utilisant une liste de listes\n",
    "On peut également créer un DataFrame en utilisant une liste de listes. Chaque liste interne représente une ligne dans le DataFrame et chaque élément représente une valeur pour une colonne spécifique."
   ]
  },
  {
   "cell_type": "code",
   "execution_count": 179,
   "id": "40438094",
   "metadata": {},
   "outputs": [
    {
     "data": {
      "text/html": [
       "<div>\n",
       "<style scoped>\n",
       "    .dataframe tbody tr th:only-of-type {\n",
       "        vertical-align: middle;\n",
       "    }\n",
       "\n",
       "    .dataframe tbody tr th {\n",
       "        vertical-align: top;\n",
       "    }\n",
       "\n",
       "    .dataframe thead th {\n",
       "        text-align: right;\n",
       "    }\n",
       "</style>\n",
       "<table border=\"1\" class=\"dataframe\">\n",
       "  <thead>\n",
       "    <tr style=\"text-align: right;\">\n",
       "      <th></th>\n",
       "      <th>col1</th>\n",
       "      <th>col2</th>\n",
       "      <th>col3</th>\n",
       "    </tr>\n",
       "  </thead>\n",
       "  <tbody>\n",
       "    <tr>\n",
       "      <th>0</th>\n",
       "      <td>1</td>\n",
       "      <td>2</td>\n",
       "      <td>3</td>\n",
       "    </tr>\n",
       "    <tr>\n",
       "      <th>1</th>\n",
       "      <td>4</td>\n",
       "      <td>5</td>\n",
       "      <td>6</td>\n",
       "    </tr>\n",
       "    <tr>\n",
       "      <th>2</th>\n",
       "      <td>7</td>\n",
       "      <td>8</td>\n",
       "      <td>9</td>\n",
       "    </tr>\n",
       "  </tbody>\n",
       "</table>\n",
       "</div>"
      ],
      "text/plain": [
       "   col1  col2  col3\n",
       "0     1     2     3\n",
       "1     4     5     6\n",
       "2     7     8     9"
      ]
     },
     "execution_count": 179,
     "metadata": {},
     "output_type": "execute_result"
    }
   ],
   "source": [
    "# Création d'une liste de listes\n",
    "data = [[1, 2, 3], [4, 5, 6], [7, 8, 9]]\n",
    "\n",
    "# Création d'un DataFrame en utilisant la liste de listes\n",
    "df = pd.DataFrame(data, columns=['col1', 'col2', 'col3'])\n",
    "\n",
    "# Afficher le DataFrame\n",
    "df"
   ]
  },
  {
   "cell_type": "markdown",
   "id": "f2935091",
   "metadata": {},
   "source": [
    "#### c. En utilisant des `numpy.array`\n"
   ]
  },
  {
   "cell_type": "code",
   "execution_count": 29,
   "id": "fbba9599",
   "metadata": {},
   "outputs": [
    {
     "data": {
      "text/html": [
       "<div>\n",
       "<style scoped>\n",
       "    .dataframe tbody tr th:only-of-type {\n",
       "        vertical-align: middle;\n",
       "    }\n",
       "\n",
       "    .dataframe tbody tr th {\n",
       "        vertical-align: top;\n",
       "    }\n",
       "\n",
       "    .dataframe thead th {\n",
       "        text-align: right;\n",
       "    }\n",
       "</style>\n",
       "<table border=\"1\" class=\"dataframe\">\n",
       "  <thead>\n",
       "    <tr style=\"text-align: right;\">\n",
       "      <th></th>\n",
       "      <th>colonne1</th>\n",
       "      <th>colonne2</th>\n",
       "    </tr>\n",
       "  </thead>\n",
       "  <tbody>\n",
       "    <tr>\n",
       "      <th>0</th>\n",
       "      <td>0.568323</td>\n",
       "      <td>-1.563644</td>\n",
       "    </tr>\n",
       "    <tr>\n",
       "      <th>1</th>\n",
       "      <td>1.165159</td>\n",
       "      <td>1.111973</td>\n",
       "    </tr>\n",
       "    <tr>\n",
       "      <th>2</th>\n",
       "      <td>0.246559</td>\n",
       "      <td>0.482090</td>\n",
       "    </tr>\n",
       "    <tr>\n",
       "      <th>3</th>\n",
       "      <td>0.149111</td>\n",
       "      <td>-0.262545</td>\n",
       "    </tr>\n",
       "  </tbody>\n",
       "</table>\n",
       "</div>"
      ],
      "text/plain": [
       "   colonne1  colonne2\n",
       "0  0.568323 -1.563644\n",
       "1  1.165159  1.111973\n",
       "2  0.246559  0.482090\n",
       "3  0.149111 -0.262545"
      ]
     },
     "execution_count": 29,
     "metadata": {},
     "output_type": "execute_result"
    }
   ],
   "source": [
    "array = np.random.randn(4, 2)\n",
    "df = pd.DataFrame(array, columns=['colonne1', 'colonne2'])\n",
    "df"
   ]
  },
  {
   "cell_type": "markdown",
   "id": "960e88b7",
   "metadata": {},
   "source": [
    "#### d. En lisant un fichier CSV"
   ]
  },
  {
   "cell_type": "code",
   "execution_count": 30,
   "id": "a3d87fc5",
   "metadata": {},
   "outputs": [
    {
     "data": {
      "text/html": [
       "<div>\n",
       "<style scoped>\n",
       "    .dataframe tbody tr th:only-of-type {\n",
       "        vertical-align: middle;\n",
       "    }\n",
       "\n",
       "    .dataframe tbody tr th {\n",
       "        vertical-align: top;\n",
       "    }\n",
       "\n",
       "    .dataframe thead th {\n",
       "        text-align: right;\n",
       "    }\n",
       "</style>\n",
       "<table border=\"1\" class=\"dataframe\">\n",
       "  <thead>\n",
       "    <tr style=\"text-align: right;\">\n",
       "      <th></th>\n",
       "      <th>city</th>\n",
       "      <th>city_ascii</th>\n",
       "      <th>lat</th>\n",
       "      <th>lng</th>\n",
       "      <th>country</th>\n",
       "      <th>iso2</th>\n",
       "      <th>iso3</th>\n",
       "      <th>admin_name</th>\n",
       "      <th>capital</th>\n",
       "      <th>population</th>\n",
       "      <th>id</th>\n",
       "    </tr>\n",
       "  </thead>\n",
       "  <tbody>\n",
       "    <tr>\n",
       "      <th>0</th>\n",
       "      <td>Tokyo</td>\n",
       "      <td>Tokyo</td>\n",
       "      <td>35.6839</td>\n",
       "      <td>139.7744</td>\n",
       "      <td>Japan</td>\n",
       "      <td>JP</td>\n",
       "      <td>JPN</td>\n",
       "      <td>Tōkyō</td>\n",
       "      <td>primary</td>\n",
       "      <td>39105000.0</td>\n",
       "      <td>1392685764</td>\n",
       "    </tr>\n",
       "    <tr>\n",
       "      <th>1</th>\n",
       "      <td>Jakarta</td>\n",
       "      <td>Jakarta</td>\n",
       "      <td>-6.2146</td>\n",
       "      <td>106.8451</td>\n",
       "      <td>Indonesia</td>\n",
       "      <td>ID</td>\n",
       "      <td>IDN</td>\n",
       "      <td>Jakarta</td>\n",
       "      <td>primary</td>\n",
       "      <td>35362000.0</td>\n",
       "      <td>1360771077</td>\n",
       "    </tr>\n",
       "    <tr>\n",
       "      <th>2</th>\n",
       "      <td>Delhi</td>\n",
       "      <td>Delhi</td>\n",
       "      <td>28.6667</td>\n",
       "      <td>77.2167</td>\n",
       "      <td>India</td>\n",
       "      <td>IN</td>\n",
       "      <td>IND</td>\n",
       "      <td>Delhi</td>\n",
       "      <td>admin</td>\n",
       "      <td>31870000.0</td>\n",
       "      <td>1356872604</td>\n",
       "    </tr>\n",
       "    <tr>\n",
       "      <th>3</th>\n",
       "      <td>Manila</td>\n",
       "      <td>Manila</td>\n",
       "      <td>14.6000</td>\n",
       "      <td>120.9833</td>\n",
       "      <td>Philippines</td>\n",
       "      <td>PH</td>\n",
       "      <td>PHL</td>\n",
       "      <td>Manila</td>\n",
       "      <td>primary</td>\n",
       "      <td>23971000.0</td>\n",
       "      <td>1608618140</td>\n",
       "    </tr>\n",
       "    <tr>\n",
       "      <th>4</th>\n",
       "      <td>São Paulo</td>\n",
       "      <td>Sao Paulo</td>\n",
       "      <td>-23.5504</td>\n",
       "      <td>-46.6339</td>\n",
       "      <td>Brazil</td>\n",
       "      <td>BR</td>\n",
       "      <td>BRA</td>\n",
       "      <td>São Paulo</td>\n",
       "      <td>admin</td>\n",
       "      <td>22495000.0</td>\n",
       "      <td>1076532519</td>\n",
       "    </tr>\n",
       "  </tbody>\n",
       "</table>\n",
       "</div>"
      ],
      "text/plain": [
       "        city city_ascii      lat       lng      country iso2 iso3 admin_name  \\\n",
       "0      Tokyo      Tokyo  35.6839  139.7744        Japan   JP  JPN      Tōkyō   \n",
       "1    Jakarta    Jakarta  -6.2146  106.8451    Indonesia   ID  IDN    Jakarta   \n",
       "2      Delhi      Delhi  28.6667   77.2167        India   IN  IND      Delhi   \n",
       "3     Manila     Manila  14.6000  120.9833  Philippines   PH  PHL     Manila   \n",
       "4  São Paulo  Sao Paulo -23.5504  -46.6339       Brazil   BR  BRA  São Paulo   \n",
       "\n",
       "   capital  population          id  \n",
       "0  primary  39105000.0  1392685764  \n",
       "1  primary  35362000.0  1360771077  \n",
       "2    admin  31870000.0  1356872604  \n",
       "3  primary  23971000.0  1608618140  \n",
       "4    admin  22495000.0  1076532519  "
      ]
     },
     "execution_count": 30,
     "metadata": {},
     "output_type": "execute_result"
    }
   ],
   "source": [
    "df = pd.read_csv(\"../data/simplemaps/worldcities.csv\")\n",
    "df.head(5) # Seulement lkes 5 premières lignes"
   ]
  },
  {
   "cell_type": "markdown",
   "id": "63299538",
   "metadata": {},
   "source": [
    "#### e. Pickle / Excel / SQL / MongoDB ..."
   ]
  },
  {
   "cell_type": "code",
   "execution_count": 182,
   "id": "56e87696",
   "metadata": {},
   "outputs": [],
   "source": [
    "################# TODO"
   ]
  },
  {
   "cell_type": "markdown",
   "id": "5ba641ae",
   "metadata": {},
   "source": [
    "### 2. Création avancée d'un DataFrame"
   ]
  },
  {
   "cell_type": "markdown",
   "id": "142095aa",
   "metadata": {},
   "source": [
    "#### a. Un exemple avec un index (plus compliqué qu'il n'en a l'air)\n",
    "\n",
    "**En s'y prenant bien, il est généralement très facile d'aligner les données comme on le souhaite, en se reposant sur le bon index**"
   ]
  },
  {
   "cell_type": "code",
   "execution_count": 32,
   "id": "72d9fbc2",
   "metadata": {},
   "outputs": [
    {
     "data": {
      "text/html": [
       "<div>\n",
       "<style scoped>\n",
       "    .dataframe tbody tr th:only-of-type {\n",
       "        vertical-align: middle;\n",
       "    }\n",
       "\n",
       "    .dataframe tbody tr th {\n",
       "        vertical-align: top;\n",
       "    }\n",
       "\n",
       "    .dataframe thead th {\n",
       "        text-align: right;\n",
       "    }\n",
       "</style>\n",
       "<table border=\"1\" class=\"dataframe\">\n",
       "  <thead>\n",
       "    <tr style=\"text-align: right;\">\n",
       "      <th></th>\n",
       "      <th>col1</th>\n",
       "      <th>col2</th>\n",
       "    </tr>\n",
       "  </thead>\n",
       "  <tbody>\n",
       "    <tr>\n",
       "      <th>0</th>\n",
       "      <td>0</td>\n",
       "      <td>NaN</td>\n",
       "    </tr>\n",
       "    <tr>\n",
       "      <th>1</th>\n",
       "      <td>1</td>\n",
       "      <td>NaN</td>\n",
       "    </tr>\n",
       "    <tr>\n",
       "      <th>2</th>\n",
       "      <td>2</td>\n",
       "      <td>4.0</td>\n",
       "    </tr>\n",
       "    <tr>\n",
       "      <th>3</th>\n",
       "      <td>3</td>\n",
       "      <td>5.0</td>\n",
       "    </tr>\n",
       "  </tbody>\n",
       "</table>\n",
       "</div>"
      ],
      "text/plain": [
       "   col1  col2\n",
       "0     0   NaN\n",
       "1     1   NaN\n",
       "2     2   4.0\n",
       "3     3   5.0"
      ]
     },
     "execution_count": 32,
     "metadata": {},
     "output_type": "execute_result"
    }
   ],
   "source": [
    "# Avec une dictionnaire de colonnes contenant des objets de différents types\n",
    "d = {\n",
    "    'col1': [0, 1, 2, 3], \n",
    "    'col2': pd.Series(\n",
    "        [4, 5], \n",
    "        index=[2, 3] # La serie a un index : [2, 3]\n",
    "    )\n",
    "}\n",
    "df = pd.DataFrame(\n",
    "    data=d, \n",
    "    index=[0, 1, 2, 3] # La dataframe a un index : [0, 1, 2, 3]\n",
    ")\n",
    "# Noter les valeurs manquantes\n",
    "df"
   ]
  },
  {
   "cell_type": "markdown",
   "id": "57ce148b",
   "metadata": {},
   "source": [
    "#### b. Un exemple avec plusieurs classes de `pandas`"
   ]
  },
  {
   "cell_type": "code",
   "execution_count": 33,
   "id": "b7d91326",
   "metadata": {},
   "outputs": [
    {
     "data": {
      "text/html": [
       "<div>\n",
       "<style scoped>\n",
       "    .dataframe tbody tr th:only-of-type {\n",
       "        vertical-align: middle;\n",
       "    }\n",
       "\n",
       "    .dataframe tbody tr th {\n",
       "        vertical-align: top;\n",
       "    }\n",
       "\n",
       "    .dataframe thead th {\n",
       "        text-align: right;\n",
       "    }\n",
       "</style>\n",
       "<table border=\"1\" class=\"dataframe\">\n",
       "  <thead>\n",
       "    <tr style=\"text-align: right;\">\n",
       "      <th></th>\n",
       "      <th>A</th>\n",
       "      <th>B</th>\n",
       "      <th>C</th>\n",
       "      <th>D</th>\n",
       "      <th>E</th>\n",
       "      <th>F</th>\n",
       "    </tr>\n",
       "  </thead>\n",
       "  <tbody>\n",
       "    <tr>\n",
       "      <th>0</th>\n",
       "      <td>1.0</td>\n",
       "      <td>2013-01-02</td>\n",
       "      <td>1.0</td>\n",
       "      <td>3</td>\n",
       "      <td>test</td>\n",
       "      <td>foo</td>\n",
       "    </tr>\n",
       "    <tr>\n",
       "      <th>1</th>\n",
       "      <td>1.0</td>\n",
       "      <td>2013-01-02</td>\n",
       "      <td>1.0</td>\n",
       "      <td>3</td>\n",
       "      <td>train</td>\n",
       "      <td>foo</td>\n",
       "    </tr>\n",
       "    <tr>\n",
       "      <th>2</th>\n",
       "      <td>1.0</td>\n",
       "      <td>2013-01-02</td>\n",
       "      <td>1.0</td>\n",
       "      <td>3</td>\n",
       "      <td>test</td>\n",
       "      <td>foo</td>\n",
       "    </tr>\n",
       "    <tr>\n",
       "      <th>3</th>\n",
       "      <td>1.0</td>\n",
       "      <td>2013-01-02</td>\n",
       "      <td>1.0</td>\n",
       "      <td>3</td>\n",
       "      <td>train</td>\n",
       "      <td>foo</td>\n",
       "    </tr>\n",
       "  </tbody>\n",
       "</table>\n",
       "</div>"
      ],
      "text/plain": [
       "     A          B    C  D      E    F\n",
       "0  1.0 2013-01-02  1.0  3   test  foo\n",
       "1  1.0 2013-01-02  1.0  3  train  foo\n",
       "2  1.0 2013-01-02  1.0  3   test  foo\n",
       "3  1.0 2013-01-02  1.0  3  train  foo"
      ]
     },
     "execution_count": 33,
     "metadata": {},
     "output_type": "execute_result"
    }
   ],
   "source": [
    "df = pd.DataFrame(\n",
    "    {\n",
    "        \"A\": 1.0,\n",
    "        \"B\": pd.Timestamp(\"20130102\"),\n",
    "        \"C\": pd.Series(1, index=list(range(4)), dtype=\"float32\"),\n",
    "        \"D\": np.array([3] * 4, dtype=\"int32\"),\n",
    "        \"E\": pd.Categorical([\"test\", \"train\", \"test\", \"train\"]),\n",
    "        \"F\": \"foo\",\n",
    "    }\n",
    ")\n",
    "df"
   ]
  },
  {
   "cell_type": "markdown",
   "id": "b573ca26",
   "metadata": {},
   "source": [
    "#### c. Usage des `dataclass` (classes représentant des données)"
   ]
  },
  {
   "cell_type": "code",
   "execution_count": 34,
   "id": "8be66675",
   "metadata": {},
   "outputs": [
    {
     "data": {
      "text/html": [
       "<div>\n",
       "<style scoped>\n",
       "    .dataframe tbody tr th:only-of-type {\n",
       "        vertical-align: middle;\n",
       "    }\n",
       "\n",
       "    .dataframe tbody tr th {\n",
       "        vertical-align: top;\n",
       "    }\n",
       "\n",
       "    .dataframe thead th {\n",
       "        text-align: right;\n",
       "    }\n",
       "</style>\n",
       "<table border=\"1\" class=\"dataframe\">\n",
       "  <thead>\n",
       "    <tr style=\"text-align: right;\">\n",
       "      <th></th>\n",
       "      <th>name</th>\n",
       "      <th>rank</th>\n",
       "      <th>is_free</th>\n",
       "    </tr>\n",
       "  </thead>\n",
       "  <tbody>\n",
       "    <tr>\n",
       "      <th>10</th>\n",
       "      <td>Kim</td>\n",
       "      <td>90</td>\n",
       "      <td>False</td>\n",
       "    </tr>\n",
       "    <tr>\n",
       "      <th>11</th>\n",
       "      <td>Jimmy</td>\n",
       "      <td>80</td>\n",
       "      <td>True</td>\n",
       "    </tr>\n",
       "    <tr>\n",
       "      <th>12</th>\n",
       "      <td>Gus</td>\n",
       "      <td>98</td>\n",
       "      <td>False</td>\n",
       "    </tr>\n",
       "  </tbody>\n",
       "</table>\n",
       "</div>"
      ],
      "text/plain": [
       "     name  rank  is_free\n",
       "10    Kim    90    False\n",
       "11  Jimmy    80     True\n",
       "12    Gus    98    False"
      ]
     },
     "execution_count": 34,
     "metadata": {},
     "output_type": "execute_result"
    }
   ],
   "source": [
    "from dataclasses import make_dataclass\n",
    "Player = make_dataclass(\"Player\", [(\"name\", str), (\"rank\", int), (\"is_free\", bool)])\n",
    "df = pd.DataFrame(\n",
    "    [\n",
    "        Player(\"Kim\", 90, False), \n",
    "        Player(\"Jimmy\", 80, True),  \n",
    "        Player(\"Gus\", 98, False)\n",
    "    ],\n",
    "    index=[10, 11, 12]\n",
    ")\n",
    "df"
   ]
  },
  {
   "cell_type": "markdown",
   "id": "e0711592",
   "metadata": {},
   "source": [
    "### 2. Observation des attributs d'un `DataFrame`"
   ]
  },
  {
   "cell_type": "code",
   "execution_count": 232,
   "id": "f11e6618",
   "metadata": {},
   "outputs": [
    {
     "name": "stdout",
     "output_type": "stream",
     "text": [
      "df est de type: <class 'pandas.core.frame.DataFrame'> \n",
      "\n"
     ]
    },
    {
     "data": {
      "text/html": [
       "<div>\n",
       "<style scoped>\n",
       "    .dataframe tbody tr th:only-of-type {\n",
       "        vertical-align: middle;\n",
       "    }\n",
       "\n",
       "    .dataframe tbody tr th {\n",
       "        vertical-align: top;\n",
       "    }\n",
       "\n",
       "    .dataframe thead th {\n",
       "        text-align: right;\n",
       "    }\n",
       "</style>\n",
       "<table border=\"1\" class=\"dataframe\">\n",
       "  <thead>\n",
       "    <tr style=\"text-align: right;\">\n",
       "      <th></th>\n",
       "      <th>country</th>\n",
       "      <th>year</th>\n",
       "      <th>iso_code</th>\n",
       "      <th>population</th>\n",
       "      <th>gdp</th>\n",
       "      <th>co2</th>\n",
       "    </tr>\n",
       "  </thead>\n",
       "  <tbody>\n",
       "    <tr>\n",
       "      <th>479</th>\n",
       "      <td>Africa (GCP)</td>\n",
       "      <td>1885</td>\n",
       "      <td>NaN</td>\n",
       "      <td>NaN</td>\n",
       "      <td>NaN</td>\n",
       "      <td>0.037</td>\n",
       "    </tr>\n",
       "    <tr>\n",
       "      <th>3602</th>\n",
       "      <td>Austria</td>\n",
       "      <td>1875</td>\n",
       "      <td>AUT</td>\n",
       "      <td>4728390.0</td>\n",
       "      <td>1.487585e+10</td>\n",
       "      <td>7.859</td>\n",
       "    </tr>\n",
       "    <tr>\n",
       "      <th>7073</th>\n",
       "      <td>Burkina Faso</td>\n",
       "      <td>1989</td>\n",
       "      <td>BFA</td>\n",
       "      <td>8895235.0</td>\n",
       "      <td>1.085885e+10</td>\n",
       "      <td>0.821</td>\n",
       "    </tr>\n",
       "  </tbody>\n",
       "</table>\n",
       "</div>"
      ],
      "text/plain": [
       "           country  year iso_code  population           gdp    co2\n",
       "479   Africa (GCP)  1885      NaN         NaN           NaN  0.037\n",
       "3602       Austria  1875      AUT   4728390.0  1.487585e+10  7.859\n",
       "7073  Burkina Faso  1989      BFA   8895235.0  1.085885e+10  0.821"
      ]
     },
     "execution_count": 232,
     "metadata": {},
     "output_type": "execute_result"
    }
   ],
   "source": [
    "df = pd.read_csv('../data/co2-data/owid-co2-data.csv')[['country', 'year', 'iso_code', 'population', 'gdp', 'co2']]\n",
    "print(f\"df est de type: {type(df)}\", \"\\n\")\n",
    "df.sample(3) # 3 valeurs au hasard\n"
   ]
  },
  {
   "cell_type": "markdown",
   "id": "c8a41cb1",
   "metadata": {},
   "source": [
    "#### Infos générales"
   ]
  },
  {
   "cell_type": "code",
   "execution_count": 233,
   "id": "8ff887cb",
   "metadata": {},
   "outputs": [
    {
     "name": "stdout",
     "output_type": "stream",
     "text": [
      "<class 'pandas.core.frame.DataFrame'>\n",
      "RangeIndex: 46523 entries, 0 to 46522\n",
      "Data columns (total 6 columns):\n",
      " #   Column      Non-Null Count  Dtype  \n",
      "---  ------      --------------  -----  \n",
      " 0   country     46523 non-null  object \n",
      " 1   year        46523 non-null  int64  \n",
      " 2   iso_code    39862 non-null  object \n",
      " 3   population  38574 non-null  float64\n",
      " 4   gdp         14551 non-null  float64\n",
      " 5   co2         31349 non-null  float64\n",
      "dtypes: float64(3), int64(1), object(2)\n",
      "memory usage: 2.1+ MB\n"
     ]
    }
   ],
   "source": [
    "df.info() # Infos générales"
   ]
  },
  {
   "cell_type": "markdown",
   "id": "0b3f7b49",
   "metadata": {},
   "source": [
    "#### a. Attribut `index` de la DataFrame\n",
    "**Il a été créé par `pandas` lors de la lecture du fichier CSV**"
   ]
  },
  {
   "cell_type": "code",
   "execution_count": 187,
   "id": "69ba5c37",
   "metadata": {},
   "outputs": [
    {
     "name": "stdout",
     "output_type": "stream",
     "text": [
      "L'index de df est de type: <class 'pandas.core.indexes.range.RangeIndex'> \n",
      "\n"
     ]
    },
    {
     "data": {
      "text/plain": [
       "RangeIndex(start=0, stop=46523, step=1)"
      ]
     },
     "execution_count": 187,
     "metadata": {},
     "output_type": "execute_result"
    }
   ],
   "source": [
    "print(f\"L'index de df est de type: {type(df.index)}\", \"\\n\")\n",
    "df.index"
   ]
  },
  {
   "cell_type": "markdown",
   "id": "47058ca3",
   "metadata": {},
   "source": [
    "**On peut spéficier le nom du pays comme index**"
   ]
  },
  {
   "cell_type": "code",
   "execution_count": 188,
   "id": "179f3ccf",
   "metadata": {},
   "outputs": [
    {
     "data": {
      "text/plain": [
       "pandas.core.indexes.base.Index"
      ]
     },
     "execution_count": 188,
     "metadata": {},
     "output_type": "execute_result"
    }
   ],
   "source": [
    "type(\n",
    "    df.set_index(\"country\").index\n",
    ")"
   ]
  },
  {
   "cell_type": "markdown",
   "id": "fd46408f",
   "metadata": {},
   "source": [
    "#### b. Attribut `columns` de la DataFrame\n",
    "L'attribut columns est du même type que l'attribut index (lorsque c'est un `string`) "
   ]
  },
  {
   "cell_type": "code",
   "execution_count": 189,
   "id": "39d134f2",
   "metadata": {},
   "outputs": [
    {
     "name": "stdout",
     "output_type": "stream",
     "text": [
      "L'attribut columns de df est de type: <class 'pandas.core.indexes.base.Index'> \n",
      "\n"
     ]
    },
    {
     "data": {
      "text/plain": [
       "Index(['country', 'year', 'iso_code', 'population', 'gdp', 'co2'], dtype='object')"
      ]
     },
     "execution_count": 189,
     "metadata": {},
     "output_type": "execute_result"
    }
   ],
   "source": [
    "print(f\"L'attribut columns de df est de type: {type(df.columns)}\", \"\\n\")\n",
    "df.columns"
   ]
  },
  {
   "cell_type": "markdown",
   "id": "a0fd9ac0",
   "metadata": {},
   "source": [
    "#### c. Les colonnes sont des attributs de type `Serie`"
   ]
  },
  {
   "cell_type": "code",
   "execution_count": 190,
   "id": "7191b3ee",
   "metadata": {},
   "outputs": [
    {
     "name": "stdout",
     "output_type": "stream",
     "text": [
      "L'attribut country de df est de type: <class 'pandas.core.series.Series'> \n",
      "\n"
     ]
    },
    {
     "data": {
      "text/plain": [
       "0        Afghanistan\n",
       "1        Afghanistan\n",
       "2        Afghanistan\n",
       "3        Afghanistan\n",
       "4        Afghanistan\n",
       "            ...     \n",
       "46518       Zimbabwe\n",
       "46519       Zimbabwe\n",
       "46520       Zimbabwe\n",
       "46521       Zimbabwe\n",
       "46522       Zimbabwe\n",
       "Name: country, Length: 46523, dtype: object"
      ]
     },
     "execution_count": 190,
     "metadata": {},
     "output_type": "execute_result"
    }
   ],
   "source": [
    "print(f\"L'attribut country de df est de type: {type(df.country)}\", \"\\n\")\n",
    "df.country"
   ]
  },
  {
   "cell_type": "markdown",
   "id": "3a8674ac",
   "metadata": {},
   "source": [
    "#### d. On peut accéder aux colonnes via leur nom"
   ]
  },
  {
   "cell_type": "code",
   "execution_count": 191,
   "id": "26e5fb94",
   "metadata": {},
   "outputs": [
    {
     "name": "stdout",
     "output_type": "stream",
     "text": [
      "L'attribut country de df est de type: <class 'pandas.core.series.Series'> \n",
      "\n"
     ]
    },
    {
     "data": {
      "text/plain": [
       "0        Afghanistan\n",
       "1        Afghanistan\n",
       "2        Afghanistan\n",
       "3        Afghanistan\n",
       "4        Afghanistan\n",
       "            ...     \n",
       "46518       Zimbabwe\n",
       "46519       Zimbabwe\n",
       "46520       Zimbabwe\n",
       "46521       Zimbabwe\n",
       "46522       Zimbabwe\n",
       "Name: country, Length: 46523, dtype: object"
      ]
     },
     "execution_count": 191,
     "metadata": {},
     "output_type": "execute_result"
    }
   ],
   "source": [
    "print(f\"L'attribut country de df est de type: {type(df['country'])}\", \"\\n\")\n",
    "df[\"country\"]"
   ]
  },
  {
   "cell_type": "markdown",
   "id": "477e9f4a",
   "metadata": {},
   "source": [
    "#### e. Attribut `dtypes` pour inspection des types des valeurs de chaque colonne"
   ]
  },
  {
   "cell_type": "code",
   "execution_count": 192,
   "id": "d5823525",
   "metadata": {},
   "outputs": [
    {
     "data": {
      "text/plain": [
       "country        object\n",
       "year            int64\n",
       "iso_code       object\n",
       "population    float64\n",
       "gdp           float64\n",
       "co2           float64\n",
       "dtype: object"
      ]
     },
     "execution_count": 192,
     "metadata": {},
     "output_type": "execute_result"
    }
   ],
   "source": [
    "df.dtypes # object pour string, ou mélane string et valeurs manquantes np.nan (qui sont des float)"
   ]
  },
  {
   "cell_type": "markdown",
   "id": "5884d5e3",
   "metadata": {},
   "source": [
    "## C. `Indexes`"
   ]
  },
  {
   "cell_type": "markdown",
   "id": "867c21e1",
   "metadata": {},
   "source": [
    "<span style='color:red'>\n",
    "    Cette CheatSheet contient un strict minimum qui est un très bon début pour apprendre à manipuler la librairie. \n",
    "    En revanche, de nombreuses méthodes utilisées fréquemment et très utiles et puissantes n'y figurent pas\n",
    "</span>\n",
    "\n",
    "**<span style='color:red'>\n",
    "Il y a énormément de fines subtilités à prendre en compte lors de l'usage des méthodes de `pandas`. Ainsi, rédiger des tests est une très bonne pratique, tout comme regarder avec ses yeux les résultats obtenus et s'assurer qu'ils sont bien ce à quoi on s'attendait (ce qui ne suffit pas).\n",
    "</span>**"
   ]
  },
  {
   "cell_type": "markdown",
   "id": "5ab59ad9",
   "metadata": {},
   "source": [
    "<img src=\"../images/1/pandas-cheatsheet.jpeg\"   style=\"margin:auto;\">"
   ]
  },
  {
   "cell_type": "markdown",
   "id": "bf26feea",
   "metadata": {},
   "source": [
    "# III. Manipulation de données\n",
    "Cette section est une adaptation de [10min to pandas](https://pandas.pydata.org/docs/user_guide/10min.html#selection).\n",
    "***"
   ]
  },
  {
   "cell_type": "markdown",
   "id": "c15dc028",
   "metadata": {},
   "source": [
    "## A. Manipulation basiques\n",
    "***"
   ]
  },
  {
   "cell_type": "markdown",
   "id": "af0c576f",
   "metadata": {},
   "source": [
    "### 1. Vues d'une DataFrame"
   ]
  },
  {
   "cell_type": "markdown",
   "id": "4dd4ad5b",
   "metadata": {},
   "source": [
    "#### a. Premières lignes avec `.head()`\n",
    "**5 premières lignes**"
   ]
  },
  {
   "cell_type": "code",
   "execution_count": 196,
   "id": "46af2401",
   "metadata": {},
   "outputs": [
    {
     "data": {
      "text/html": [
       "<div>\n",
       "<style scoped>\n",
       "    .dataframe tbody tr th:only-of-type {\n",
       "        vertical-align: middle;\n",
       "    }\n",
       "\n",
       "    .dataframe tbody tr th {\n",
       "        vertical-align: top;\n",
       "    }\n",
       "\n",
       "    .dataframe thead th {\n",
       "        text-align: right;\n",
       "    }\n",
       "</style>\n",
       "<table border=\"1\" class=\"dataframe\">\n",
       "  <thead>\n",
       "    <tr style=\"text-align: right;\">\n",
       "      <th></th>\n",
       "      <th>country</th>\n",
       "      <th>year</th>\n",
       "      <th>iso_code</th>\n",
       "      <th>population</th>\n",
       "      <th>gdp</th>\n",
       "      <th>co2</th>\n",
       "    </tr>\n",
       "  </thead>\n",
       "  <tbody>\n",
       "    <tr>\n",
       "      <th>0</th>\n",
       "      <td>Afghanistan</td>\n",
       "      <td>1850</td>\n",
       "      <td>AFG</td>\n",
       "      <td>3752993.0</td>\n",
       "      <td>NaN</td>\n",
       "      <td>NaN</td>\n",
       "    </tr>\n",
       "    <tr>\n",
       "      <th>1</th>\n",
       "      <td>Afghanistan</td>\n",
       "      <td>1851</td>\n",
       "      <td>AFG</td>\n",
       "      <td>3769828.0</td>\n",
       "      <td>NaN</td>\n",
       "      <td>NaN</td>\n",
       "    </tr>\n",
       "    <tr>\n",
       "      <th>2</th>\n",
       "      <td>Afghanistan</td>\n",
       "      <td>1852</td>\n",
       "      <td>AFG</td>\n",
       "      <td>3787706.0</td>\n",
       "      <td>NaN</td>\n",
       "      <td>NaN</td>\n",
       "    </tr>\n",
       "    <tr>\n",
       "      <th>3</th>\n",
       "      <td>Afghanistan</td>\n",
       "      <td>1853</td>\n",
       "      <td>AFG</td>\n",
       "      <td>3806634.0</td>\n",
       "      <td>NaN</td>\n",
       "      <td>NaN</td>\n",
       "    </tr>\n",
       "    <tr>\n",
       "      <th>4</th>\n",
       "      <td>Afghanistan</td>\n",
       "      <td>1854</td>\n",
       "      <td>AFG</td>\n",
       "      <td>3825655.0</td>\n",
       "      <td>NaN</td>\n",
       "      <td>NaN</td>\n",
       "    </tr>\n",
       "  </tbody>\n",
       "</table>\n",
       "</div>"
      ],
      "text/plain": [
       "       country  year iso_code  population  gdp  co2\n",
       "0  Afghanistan  1850      AFG   3752993.0  NaN  NaN\n",
       "1  Afghanistan  1851      AFG   3769828.0  NaN  NaN\n",
       "2  Afghanistan  1852      AFG   3787706.0  NaN  NaN\n",
       "3  Afghanistan  1853      AFG   3806634.0  NaN  NaN\n",
       "4  Afghanistan  1854      AFG   3825655.0  NaN  NaN"
      ]
     },
     "execution_count": 196,
     "metadata": {},
     "output_type": "execute_result"
    }
   ],
   "source": [
    "df.head(5)"
   ]
  },
  {
   "cell_type": "markdown",
   "id": "f70ec0a4",
   "metadata": {},
   "source": [
    "#### b. Dernières lignes avec `.tail()`\n",
    "\n",
    "**5 dernières lignes**"
   ]
  },
  {
   "cell_type": "code",
   "execution_count": 205,
   "id": "1c0336ef",
   "metadata": {},
   "outputs": [
    {
     "data": {
      "text/html": [
       "<div>\n",
       "<style scoped>\n",
       "    .dataframe tbody tr th:only-of-type {\n",
       "        vertical-align: middle;\n",
       "    }\n",
       "\n",
       "    .dataframe tbody tr th {\n",
       "        vertical-align: top;\n",
       "    }\n",
       "\n",
       "    .dataframe thead th {\n",
       "        text-align: right;\n",
       "    }\n",
       "</style>\n",
       "<table border=\"1\" class=\"dataframe\">\n",
       "  <thead>\n",
       "    <tr style=\"text-align: right;\">\n",
       "      <th></th>\n",
       "      <th>country</th>\n",
       "      <th>year</th>\n",
       "      <th>iso_code</th>\n",
       "      <th>population</th>\n",
       "      <th>gdp</th>\n",
       "      <th>co2</th>\n",
       "    </tr>\n",
       "  </thead>\n",
       "  <tbody>\n",
       "    <tr>\n",
       "      <th>46518</th>\n",
       "      <td>Zimbabwe</td>\n",
       "      <td>2017</td>\n",
       "      <td>ZWE</td>\n",
       "      <td>14751101.0</td>\n",
       "      <td>2.194784e+10</td>\n",
       "      <td>9.596</td>\n",
       "    </tr>\n",
       "    <tr>\n",
       "      <th>46519</th>\n",
       "      <td>Zimbabwe</td>\n",
       "      <td>2018</td>\n",
       "      <td>ZWE</td>\n",
       "      <td>15052191.0</td>\n",
       "      <td>2.271535e+10</td>\n",
       "      <td>11.795</td>\n",
       "    </tr>\n",
       "    <tr>\n",
       "      <th>46520</th>\n",
       "      <td>Zimbabwe</td>\n",
       "      <td>2019</td>\n",
       "      <td>ZWE</td>\n",
       "      <td>15354606.0</td>\n",
       "      <td>NaN</td>\n",
       "      <td>11.115</td>\n",
       "    </tr>\n",
       "    <tr>\n",
       "      <th>46521</th>\n",
       "      <td>Zimbabwe</td>\n",
       "      <td>2020</td>\n",
       "      <td>ZWE</td>\n",
       "      <td>15669663.0</td>\n",
       "      <td>NaN</td>\n",
       "      <td>10.608</td>\n",
       "    </tr>\n",
       "    <tr>\n",
       "      <th>46522</th>\n",
       "      <td>Zimbabwe</td>\n",
       "      <td>2021</td>\n",
       "      <td>ZWE</td>\n",
       "      <td>15993525.0</td>\n",
       "      <td>NaN</td>\n",
       "      <td>11.296</td>\n",
       "    </tr>\n",
       "  </tbody>\n",
       "</table>\n",
       "</div>"
      ],
      "text/plain": [
       "        country  year iso_code  population           gdp     co2\n",
       "46518  Zimbabwe  2017      ZWE  14751101.0  2.194784e+10   9.596\n",
       "46519  Zimbabwe  2018      ZWE  15052191.0  2.271535e+10  11.795\n",
       "46520  Zimbabwe  2019      ZWE  15354606.0           NaN  11.115\n",
       "46521  Zimbabwe  2020      ZWE  15669663.0           NaN  10.608\n",
       "46522  Zimbabwe  2021      ZWE  15993525.0           NaN  11.296"
      ]
     },
     "execution_count": 205,
     "metadata": {},
     "output_type": "execute_result"
    }
   ],
   "source": [
    "df.tail(5)"
   ]
  },
  {
   "cell_type": "markdown",
   "id": "8b008b7a",
   "metadata": {},
   "source": [
    "#### c.  Lignes avec `.sample()`\n",
    "\n",
    "**5 lignes au hasard**"
   ]
  },
  {
   "cell_type": "code",
   "execution_count": 207,
   "id": "fa0ac24f",
   "metadata": {},
   "outputs": [
    {
     "data": {
      "text/html": [
       "<div>\n",
       "<style scoped>\n",
       "    .dataframe tbody tr th:only-of-type {\n",
       "        vertical-align: middle;\n",
       "    }\n",
       "\n",
       "    .dataframe tbody tr th {\n",
       "        vertical-align: top;\n",
       "    }\n",
       "\n",
       "    .dataframe thead th {\n",
       "        text-align: right;\n",
       "    }\n",
       "</style>\n",
       "<table border=\"1\" class=\"dataframe\">\n",
       "  <thead>\n",
       "    <tr style=\"text-align: right;\">\n",
       "      <th></th>\n",
       "      <th>country</th>\n",
       "      <th>year</th>\n",
       "      <th>iso_code</th>\n",
       "      <th>population</th>\n",
       "      <th>gdp</th>\n",
       "      <th>co2</th>\n",
       "    </tr>\n",
       "  </thead>\n",
       "  <tbody>\n",
       "    <tr>\n",
       "      <th>37107</th>\n",
       "      <td>Sierra Leone</td>\n",
       "      <td>1788</td>\n",
       "      <td>SLE</td>\n",
       "      <td>NaN</td>\n",
       "      <td>NaN</td>\n",
       "      <td>0.000</td>\n",
       "    </tr>\n",
       "    <tr>\n",
       "      <th>45319</th>\n",
       "      <td>Venezuela</td>\n",
       "      <td>1982</td>\n",
       "      <td>VEN</td>\n",
       "      <td>16071654.0</td>\n",
       "      <td>2.409191e+11</td>\n",
       "      <td>93.201</td>\n",
       "    </tr>\n",
       "    <tr>\n",
       "      <th>24190</th>\n",
       "      <td>Low-income countries</td>\n",
       "      <td>1815</td>\n",
       "      <td>NaN</td>\n",
       "      <td>52732235.0</td>\n",
       "      <td>NaN</td>\n",
       "      <td>0.000</td>\n",
       "    </tr>\n",
       "    <tr>\n",
       "      <th>22316</th>\n",
       "      <td>Kenya</td>\n",
       "      <td>1888</td>\n",
       "      <td>KEN</td>\n",
       "      <td>4267267.0</td>\n",
       "      <td>NaN</td>\n",
       "      <td>NaN</td>\n",
       "    </tr>\n",
       "    <tr>\n",
       "      <th>41832</th>\n",
       "      <td>Togo</td>\n",
       "      <td>1953</td>\n",
       "      <td>TGO</td>\n",
       "      <td>1468985.0</td>\n",
       "      <td>1.135772e+09</td>\n",
       "      <td>0.029</td>\n",
       "    </tr>\n",
       "  </tbody>\n",
       "</table>\n",
       "</div>"
      ],
      "text/plain": [
       "                    country  year iso_code  population           gdp     co2\n",
       "37107          Sierra Leone  1788      SLE         NaN           NaN   0.000\n",
       "45319             Venezuela  1982      VEN  16071654.0  2.409191e+11  93.201\n",
       "24190  Low-income countries  1815      NaN  52732235.0           NaN   0.000\n",
       "22316                 Kenya  1888      KEN   4267267.0           NaN     NaN\n",
       "41832                  Togo  1953      TGO   1468985.0  1.135772e+09   0.029"
      ]
     },
     "execution_count": 207,
     "metadata": {},
     "output_type": "execute_result"
    }
   ],
   "source": [
    "df.sample(n=5)"
   ]
  },
  {
   "cell_type": "markdown",
   "id": "a34da521",
   "metadata": {},
   "source": [
    "#### d. Statistiques de bases des variables numériques avec `.describe()`"
   ]
  },
  {
   "cell_type": "code",
   "execution_count": 211,
   "id": "2c22950e",
   "metadata": {},
   "outputs": [
    {
     "name": "stdout",
     "output_type": "stream",
     "text": [
      "<class 'pandas.core.frame.DataFrame'>\n"
     ]
    },
    {
     "data": {
      "text/html": [
       "<div>\n",
       "<style scoped>\n",
       "    .dataframe tbody tr th:only-of-type {\n",
       "        vertical-align: middle;\n",
       "    }\n",
       "\n",
       "    .dataframe tbody tr th {\n",
       "        vertical-align: top;\n",
       "    }\n",
       "\n",
       "    .dataframe thead th {\n",
       "        text-align: right;\n",
       "    }\n",
       "</style>\n",
       "<table border=\"1\" class=\"dataframe\">\n",
       "  <thead>\n",
       "    <tr style=\"text-align: right;\">\n",
       "      <th></th>\n",
       "      <th>year</th>\n",
       "      <th>population</th>\n",
       "      <th>gdp</th>\n",
       "      <th>co2</th>\n",
       "    </tr>\n",
       "  </thead>\n",
       "  <tbody>\n",
       "    <tr>\n",
       "      <th>count</th>\n",
       "      <td>46523.000000</td>\n",
       "      <td>3.857400e+04</td>\n",
       "      <td>1.455100e+04</td>\n",
       "      <td>31349.000000</td>\n",
       "    </tr>\n",
       "    <tr>\n",
       "      <th>mean</th>\n",
       "      <td>1925.686478</td>\n",
       "      <td>6.005374e+07</td>\n",
       "      <td>2.679977e+11</td>\n",
       "      <td>379.988086</td>\n",
       "    </tr>\n",
       "    <tr>\n",
       "      <th>std</th>\n",
       "      <td>61.042693</td>\n",
       "      <td>3.280828e+08</td>\n",
       "      <td>2.104075e+12</td>\n",
       "      <td>1799.875801</td>\n",
       "    </tr>\n",
       "    <tr>\n",
       "      <th>min</th>\n",
       "      <td>1750.000000</td>\n",
       "      <td>2.100000e+01</td>\n",
       "      <td>4.998000e+07</td>\n",
       "      <td>0.000000</td>\n",
       "    </tr>\n",
       "    <tr>\n",
       "      <th>25%</th>\n",
       "      <td>1882.000000</td>\n",
       "      <td>3.808912e+05</td>\n",
       "      <td>7.530493e+09</td>\n",
       "      <td>0.125000</td>\n",
       "    </tr>\n",
       "    <tr>\n",
       "      <th>50%</th>\n",
       "      <td>1930.000000</td>\n",
       "      <td>2.509282e+06</td>\n",
       "      <td>2.605900e+10</td>\n",
       "      <td>3.109000</td>\n",
       "    </tr>\n",
       "    <tr>\n",
       "      <th>75%</th>\n",
       "      <td>1977.000000</td>\n",
       "      <td>9.996447e+06</td>\n",
       "      <td>1.134711e+11</td>\n",
       "      <td>43.660000</td>\n",
       "    </tr>\n",
       "    <tr>\n",
       "      <th>max</th>\n",
       "      <td>2021.000000</td>\n",
       "      <td>7.909295e+09</td>\n",
       "      <td>1.136302e+14</td>\n",
       "      <td>37123.852000</td>\n",
       "    </tr>\n",
       "  </tbody>\n",
       "</table>\n",
       "</div>"
      ],
      "text/plain": [
       "               year    population           gdp           co2\n",
       "count  46523.000000  3.857400e+04  1.455100e+04  31349.000000\n",
       "mean    1925.686478  6.005374e+07  2.679977e+11    379.988086\n",
       "std       61.042693  3.280828e+08  2.104075e+12   1799.875801\n",
       "min     1750.000000  2.100000e+01  4.998000e+07      0.000000\n",
       "25%     1882.000000  3.808912e+05  7.530493e+09      0.125000\n",
       "50%     1930.000000  2.509282e+06  2.605900e+10      3.109000\n",
       "75%     1977.000000  9.996447e+06  1.134711e+11     43.660000\n",
       "max     2021.000000  7.909295e+09  1.136302e+14  37123.852000"
      ]
     },
     "execution_count": 211,
     "metadata": {},
     "output_type": "execute_result"
    }
   ],
   "source": [
    "print(type(df.describe()))\n",
    "df.describe() # renvoie une DataFrame"
   ]
  },
  {
   "cell_type": "markdown",
   "id": "43e51846",
   "metadata": {},
   "source": [
    "#### e. Transposition des données avec `.T`"
   ]
  },
  {
   "cell_type": "code",
   "execution_count": 212,
   "id": "f4b229e3",
   "metadata": {},
   "outputs": [
    {
     "data": {
      "text/html": [
       "<div>\n",
       "<style scoped>\n",
       "    .dataframe tbody tr th:only-of-type {\n",
       "        vertical-align: middle;\n",
       "    }\n",
       "\n",
       "    .dataframe tbody tr th {\n",
       "        vertical-align: top;\n",
       "    }\n",
       "\n",
       "    .dataframe thead th {\n",
       "        text-align: right;\n",
       "    }\n",
       "</style>\n",
       "<table border=\"1\" class=\"dataframe\">\n",
       "  <thead>\n",
       "    <tr style=\"text-align: right;\">\n",
       "      <th></th>\n",
       "      <th>0</th>\n",
       "      <th>1</th>\n",
       "      <th>2</th>\n",
       "      <th>3</th>\n",
       "      <th>4</th>\n",
       "      <th>5</th>\n",
       "      <th>6</th>\n",
       "      <th>7</th>\n",
       "      <th>8</th>\n",
       "      <th>9</th>\n",
       "      <th>...</th>\n",
       "      <th>46513</th>\n",
       "      <th>46514</th>\n",
       "      <th>46515</th>\n",
       "      <th>46516</th>\n",
       "      <th>46517</th>\n",
       "      <th>46518</th>\n",
       "      <th>46519</th>\n",
       "      <th>46520</th>\n",
       "      <th>46521</th>\n",
       "      <th>46522</th>\n",
       "    </tr>\n",
       "  </thead>\n",
       "  <tbody>\n",
       "    <tr>\n",
       "      <th>country</th>\n",
       "      <td>Afghanistan</td>\n",
       "      <td>Afghanistan</td>\n",
       "      <td>Afghanistan</td>\n",
       "      <td>Afghanistan</td>\n",
       "      <td>Afghanistan</td>\n",
       "      <td>Afghanistan</td>\n",
       "      <td>Afghanistan</td>\n",
       "      <td>Afghanistan</td>\n",
       "      <td>Afghanistan</td>\n",
       "      <td>Afghanistan</td>\n",
       "      <td>...</td>\n",
       "      <td>Zimbabwe</td>\n",
       "      <td>Zimbabwe</td>\n",
       "      <td>Zimbabwe</td>\n",
       "      <td>Zimbabwe</td>\n",
       "      <td>Zimbabwe</td>\n",
       "      <td>Zimbabwe</td>\n",
       "      <td>Zimbabwe</td>\n",
       "      <td>Zimbabwe</td>\n",
       "      <td>Zimbabwe</td>\n",
       "      <td>Zimbabwe</td>\n",
       "    </tr>\n",
       "    <tr>\n",
       "      <th>year</th>\n",
       "      <td>1850</td>\n",
       "      <td>1851</td>\n",
       "      <td>1852</td>\n",
       "      <td>1853</td>\n",
       "      <td>1854</td>\n",
       "      <td>1855</td>\n",
       "      <td>1856</td>\n",
       "      <td>1857</td>\n",
       "      <td>1858</td>\n",
       "      <td>1859</td>\n",
       "      <td>...</td>\n",
       "      <td>2012</td>\n",
       "      <td>2013</td>\n",
       "      <td>2014</td>\n",
       "      <td>2015</td>\n",
       "      <td>2016</td>\n",
       "      <td>2017</td>\n",
       "      <td>2018</td>\n",
       "      <td>2019</td>\n",
       "      <td>2020</td>\n",
       "      <td>2021</td>\n",
       "    </tr>\n",
       "    <tr>\n",
       "      <th>iso_code</th>\n",
       "      <td>AFG</td>\n",
       "      <td>AFG</td>\n",
       "      <td>AFG</td>\n",
       "      <td>AFG</td>\n",
       "      <td>AFG</td>\n",
       "      <td>AFG</td>\n",
       "      <td>AFG</td>\n",
       "      <td>AFG</td>\n",
       "      <td>AFG</td>\n",
       "      <td>AFG</td>\n",
       "      <td>...</td>\n",
       "      <td>ZWE</td>\n",
       "      <td>ZWE</td>\n",
       "      <td>ZWE</td>\n",
       "      <td>ZWE</td>\n",
       "      <td>ZWE</td>\n",
       "      <td>ZWE</td>\n",
       "      <td>ZWE</td>\n",
       "      <td>ZWE</td>\n",
       "      <td>ZWE</td>\n",
       "      <td>ZWE</td>\n",
       "    </tr>\n",
       "    <tr>\n",
       "      <th>population</th>\n",
       "      <td>3752993.0</td>\n",
       "      <td>3769828.0</td>\n",
       "      <td>3787706.0</td>\n",
       "      <td>3806634.0</td>\n",
       "      <td>3825655.0</td>\n",
       "      <td>3844769.0</td>\n",
       "      <td>3863976.0</td>\n",
       "      <td>3883276.0</td>\n",
       "      <td>3902671.0</td>\n",
       "      <td>3922160.0</td>\n",
       "      <td>...</td>\n",
       "      <td>13265331.0</td>\n",
       "      <td>13555420.0</td>\n",
       "      <td>13855758.0</td>\n",
       "      <td>14154937.0</td>\n",
       "      <td>14452705.0</td>\n",
       "      <td>14751101.0</td>\n",
       "      <td>15052191.0</td>\n",
       "      <td>15354606.0</td>\n",
       "      <td>15669663.0</td>\n",
       "      <td>15993525.0</td>\n",
       "    </tr>\n",
       "    <tr>\n",
       "      <th>gdp</th>\n",
       "      <td>NaN</td>\n",
       "      <td>NaN</td>\n",
       "      <td>NaN</td>\n",
       "      <td>NaN</td>\n",
       "      <td>NaN</td>\n",
       "      <td>NaN</td>\n",
       "      <td>NaN</td>\n",
       "      <td>NaN</td>\n",
       "      <td>NaN</td>\n",
       "      <td>NaN</td>\n",
       "      <td>...</td>\n",
       "      <td>20909967360.0</td>\n",
       "      <td>21123497984.0</td>\n",
       "      <td>21222502400.0</td>\n",
       "      <td>21027454976.0</td>\n",
       "      <td>20961794048.0</td>\n",
       "      <td>21947836416.0</td>\n",
       "      <td>22715353088.0</td>\n",
       "      <td>NaN</td>\n",
       "      <td>NaN</td>\n",
       "      <td>NaN</td>\n",
       "    </tr>\n",
       "    <tr>\n",
       "      <th>co2</th>\n",
       "      <td>NaN</td>\n",
       "      <td>NaN</td>\n",
       "      <td>NaN</td>\n",
       "      <td>NaN</td>\n",
       "      <td>NaN</td>\n",
       "      <td>NaN</td>\n",
       "      <td>NaN</td>\n",
       "      <td>NaN</td>\n",
       "      <td>NaN</td>\n",
       "      <td>NaN</td>\n",
       "      <td>...</td>\n",
       "      <td>11.254</td>\n",
       "      <td>11.671</td>\n",
       "      <td>11.946</td>\n",
       "      <td>12.255</td>\n",
       "      <td>10.533</td>\n",
       "      <td>9.596</td>\n",
       "      <td>11.795</td>\n",
       "      <td>11.115</td>\n",
       "      <td>10.608</td>\n",
       "      <td>11.296</td>\n",
       "    </tr>\n",
       "  </tbody>\n",
       "</table>\n",
       "<p>6 rows × 46523 columns</p>\n",
       "</div>"
      ],
      "text/plain": [
       "                  0            1            2            3            4      \\\n",
       "country     Afghanistan  Afghanistan  Afghanistan  Afghanistan  Afghanistan   \n",
       "year               1850         1851         1852         1853         1854   \n",
       "iso_code            AFG          AFG          AFG          AFG          AFG   \n",
       "population    3752993.0    3769828.0    3787706.0    3806634.0    3825655.0   \n",
       "gdp                 NaN          NaN          NaN          NaN          NaN   \n",
       "co2                 NaN          NaN          NaN          NaN          NaN   \n",
       "\n",
       "                  5            6            7            8            9      \\\n",
       "country     Afghanistan  Afghanistan  Afghanistan  Afghanistan  Afghanistan   \n",
       "year               1855         1856         1857         1858         1859   \n",
       "iso_code            AFG          AFG          AFG          AFG          AFG   \n",
       "population    3844769.0    3863976.0    3883276.0    3902671.0    3922160.0   \n",
       "gdp                 NaN          NaN          NaN          NaN          NaN   \n",
       "co2                 NaN          NaN          NaN          NaN          NaN   \n",
       "\n",
       "            ...          46513          46514          46515          46516  \\\n",
       "country     ...       Zimbabwe       Zimbabwe       Zimbabwe       Zimbabwe   \n",
       "year        ...           2012           2013           2014           2015   \n",
       "iso_code    ...            ZWE            ZWE            ZWE            ZWE   \n",
       "population  ...     13265331.0     13555420.0     13855758.0     14154937.0   \n",
       "gdp         ...  20909967360.0  21123497984.0  21222502400.0  21027454976.0   \n",
       "co2         ...         11.254         11.671         11.946         12.255   \n",
       "\n",
       "                    46517          46518          46519       46520  \\\n",
       "country          Zimbabwe       Zimbabwe       Zimbabwe    Zimbabwe   \n",
       "year                 2016           2017           2018        2019   \n",
       "iso_code              ZWE            ZWE            ZWE         ZWE   \n",
       "population     14452705.0     14751101.0     15052191.0  15354606.0   \n",
       "gdp         20961794048.0  21947836416.0  22715353088.0         NaN   \n",
       "co2                10.533          9.596         11.795      11.115   \n",
       "\n",
       "                 46521       46522  \n",
       "country       Zimbabwe    Zimbabwe  \n",
       "year              2020        2021  \n",
       "iso_code           ZWE         ZWE  \n",
       "population  15669663.0  15993525.0  \n",
       "gdp                NaN         NaN  \n",
       "co2             10.608      11.296  \n",
       "\n",
       "[6 rows x 46523 columns]"
      ]
     },
     "execution_count": 212,
     "metadata": {},
     "output_type": "execute_result"
    }
   ],
   "source": [
    "df.T"
   ]
  },
  {
   "cell_type": "code",
   "execution_count": 252,
   "id": "52a3bb16",
   "metadata": {},
   "outputs": [
    {
     "data": {
      "text/html": [
       "<div>\n",
       "<style scoped>\n",
       "    .dataframe tbody tr th:only-of-type {\n",
       "        vertical-align: middle;\n",
       "    }\n",
       "\n",
       "    .dataframe tbody tr th {\n",
       "        vertical-align: top;\n",
       "    }\n",
       "\n",
       "    .dataframe thead th {\n",
       "        text-align: right;\n",
       "    }\n",
       "</style>\n",
       "<table border=\"1\" class=\"dataframe\">\n",
       "  <thead>\n",
       "    <tr style=\"text-align: right;\">\n",
       "      <th></th>\n",
       "      <th>2022-01-01</th>\n",
       "      <th>2022-01-02</th>\n",
       "      <th>2022-01-03</th>\n",
       "      <th>2022-01-04</th>\n",
       "      <th>2022-01-05</th>\n",
       "      <th>2022-01-06</th>\n",
       "      <th>2022-01-07</th>\n",
       "      <th>2022-01-08</th>\n",
       "      <th>2022-01-09</th>\n",
       "      <th>2022-01-10</th>\n",
       "      <th>...</th>\n",
       "      <th>2022-04-01</th>\n",
       "      <th>2022-04-02</th>\n",
       "      <th>2022-04-03</th>\n",
       "      <th>2022-04-04</th>\n",
       "      <th>2022-04-05</th>\n",
       "      <th>2022-04-06</th>\n",
       "      <th>2022-04-07</th>\n",
       "      <th>2022-04-08</th>\n",
       "      <th>2022-04-09</th>\n",
       "      <th>2022-04-10</th>\n",
       "    </tr>\n",
       "  </thead>\n",
       "  <tbody>\n",
       "    <tr>\n",
       "      <th>score_player_1</th>\n",
       "      <td>130.0</td>\n",
       "      <td>30.0</td>\n",
       "      <td>31.0</td>\n",
       "      <td>92.0</td>\n",
       "      <td>32.0</td>\n",
       "      <td>148.0</td>\n",
       "      <td>127.0</td>\n",
       "      <td>91.0</td>\n",
       "      <td>44.0</td>\n",
       "      <td>185.0</td>\n",
       "      <td>...</td>\n",
       "      <td>73.0</td>\n",
       "      <td>51.0</td>\n",
       "      <td>1.0</td>\n",
       "      <td>49.0</td>\n",
       "      <td>101.0</td>\n",
       "      <td>49.0</td>\n",
       "      <td>35.0</td>\n",
       "      <td>26.0</td>\n",
       "      <td>141.0</td>\n",
       "      <td>87.0</td>\n",
       "    </tr>\n",
       "    <tr>\n",
       "      <th>score_player_2</th>\n",
       "      <td>9.0</td>\n",
       "      <td>22.0</td>\n",
       "      <td>36.0</td>\n",
       "      <td>41.0</td>\n",
       "      <td>132.0</td>\n",
       "      <td>46.0</td>\n",
       "      <td>83.0</td>\n",
       "      <td>35.0</td>\n",
       "      <td>92.0</td>\n",
       "      <td>127.0</td>\n",
       "      <td>...</td>\n",
       "      <td>6.0</td>\n",
       "      <td>24.0</td>\n",
       "      <td>64.0</td>\n",
       "      <td>76.0</td>\n",
       "      <td>41.0</td>\n",
       "      <td>101.0</td>\n",
       "      <td>1.0</td>\n",
       "      <td>62.0</td>\n",
       "      <td>60.0</td>\n",
       "      <td>6.0</td>\n",
       "    </tr>\n",
       "    <tr>\n",
       "      <th>score_player_3</th>\n",
       "      <td>123.0</td>\n",
       "      <td>59.0</td>\n",
       "      <td>96.0</td>\n",
       "      <td>37.0</td>\n",
       "      <td>89.0</td>\n",
       "      <td>117.0</td>\n",
       "      <td>31.0</td>\n",
       "      <td>51.0</td>\n",
       "      <td>50.0</td>\n",
       "      <td>31.0</td>\n",
       "      <td>...</td>\n",
       "      <td>5.0</td>\n",
       "      <td>10.0</td>\n",
       "      <td>117.0</td>\n",
       "      <td>191.0</td>\n",
       "      <td>49.0</td>\n",
       "      <td>49.0</td>\n",
       "      <td>62.0</td>\n",
       "      <td>56.0</td>\n",
       "      <td>2.0</td>\n",
       "      <td>13.0</td>\n",
       "    </tr>\n",
       "  </tbody>\n",
       "</table>\n",
       "<p>3 rows × 100 columns</p>\n",
       "</div>"
      ],
      "text/plain": [
       "                2022-01-01  2022-01-02  2022-01-03  2022-01-04  2022-01-05  \\\n",
       "score_player_1       130.0        30.0        31.0        92.0        32.0   \n",
       "score_player_2         9.0        22.0        36.0        41.0       132.0   \n",
       "score_player_3       123.0        59.0        96.0        37.0        89.0   \n",
       "\n",
       "                2022-01-06  2022-01-07  2022-01-08  2022-01-09  2022-01-10  \\\n",
       "score_player_1       148.0       127.0        91.0        44.0       185.0   \n",
       "score_player_2        46.0        83.0        35.0        92.0       127.0   \n",
       "score_player_3       117.0        31.0        51.0        50.0        31.0   \n",
       "\n",
       "                ...  2022-04-01  2022-04-02  2022-04-03  2022-04-04  \\\n",
       "score_player_1  ...        73.0        51.0         1.0        49.0   \n",
       "score_player_2  ...         6.0        24.0        64.0        76.0   \n",
       "score_player_3  ...         5.0        10.0       117.0       191.0   \n",
       "\n",
       "                2022-04-05  2022-04-06  2022-04-07  2022-04-08  2022-04-09  \\\n",
       "score_player_1       101.0        49.0        35.0        26.0       141.0   \n",
       "score_player_2        41.0       101.0         1.0        62.0        60.0   \n",
       "score_player_3        49.0        49.0        62.0        56.0         2.0   \n",
       "\n",
       "                2022-04-10  \n",
       "score_player_1        87.0  \n",
       "score_player_2         6.0  \n",
       "score_player_3        13.0  \n",
       "\n",
       "[3 rows x 100 columns]"
      ]
     },
     "execution_count": 252,
     "metadata": {},
     "output_type": "execute_result"
    }
   ],
   "source": [
    "## Souvent utiles avec les données indexées dans le temps : \n",
    "import datetime\n",
    "\n",
    "date_start = datetime.datetime(2022, 1, 1)\n",
    "date_end = datetime.datetime(2022, 1, 1) + datetime.timedelta(days=99)\n",
    "\n",
    "df_scores = pd.DataFrame(\n",
    "    np.ceil(np.abs(np.random.randn(100, 3)*100)),\n",
    "    columns=[\"score_player_1\", \"score_player_2\", \"score_player_3\"],\n",
    "    index=pd.date_range(date_start, date_end)\n",
    "    \n",
    ")\n",
    "df_scores.T # Les dates deviennent les variables et les scores les individus"
   ]
  },
  {
   "cell_type": "markdown",
   "id": "7f8e6f97",
   "metadata": {},
   "source": [
    "#### f. Tri selon une colonne"
   ]
  },
  {
   "cell_type": "code",
   "execution_count": 253,
   "id": "22cadab4",
   "metadata": {},
   "outputs": [
    {
     "data": {
      "text/html": [
       "<div>\n",
       "<style scoped>\n",
       "    .dataframe tbody tr th:only-of-type {\n",
       "        vertical-align: middle;\n",
       "    }\n",
       "\n",
       "    .dataframe tbody tr th {\n",
       "        vertical-align: top;\n",
       "    }\n",
       "\n",
       "    .dataframe thead th {\n",
       "        text-align: right;\n",
       "    }\n",
       "</style>\n",
       "<table border=\"1\" class=\"dataframe\">\n",
       "  <thead>\n",
       "    <tr style=\"text-align: right;\">\n",
       "      <th></th>\n",
       "      <th>score_player_1</th>\n",
       "      <th>score_player_2</th>\n",
       "      <th>score_player_3</th>\n",
       "    </tr>\n",
       "  </thead>\n",
       "  <tbody>\n",
       "    <tr>\n",
       "      <th>2022-03-20</th>\n",
       "      <td>11.0</td>\n",
       "      <td>240.0</td>\n",
       "      <td>108.0</td>\n",
       "    </tr>\n",
       "    <tr>\n",
       "      <th>2022-03-03</th>\n",
       "      <td>33.0</td>\n",
       "      <td>228.0</td>\n",
       "      <td>26.0</td>\n",
       "    </tr>\n",
       "    <tr>\n",
       "      <th>2022-01-17</th>\n",
       "      <td>32.0</td>\n",
       "      <td>213.0</td>\n",
       "      <td>4.0</td>\n",
       "    </tr>\n",
       "    <tr>\n",
       "      <th>2022-02-18</th>\n",
       "      <td>109.0</td>\n",
       "      <td>189.0</td>\n",
       "      <td>208.0</td>\n",
       "    </tr>\n",
       "    <tr>\n",
       "      <th>2022-02-06</th>\n",
       "      <td>13.0</td>\n",
       "      <td>189.0</td>\n",
       "      <td>97.0</td>\n",
       "    </tr>\n",
       "    <tr>\n",
       "      <th>...</th>\n",
       "      <td>...</td>\n",
       "      <td>...</td>\n",
       "      <td>...</td>\n",
       "    </tr>\n",
       "    <tr>\n",
       "      <th>2022-04-01</th>\n",
       "      <td>73.0</td>\n",
       "      <td>6.0</td>\n",
       "      <td>5.0</td>\n",
       "    </tr>\n",
       "    <tr>\n",
       "      <th>2022-04-10</th>\n",
       "      <td>87.0</td>\n",
       "      <td>6.0</td>\n",
       "      <td>13.0</td>\n",
       "    </tr>\n",
       "    <tr>\n",
       "      <th>2022-03-10</th>\n",
       "      <td>150.0</td>\n",
       "      <td>3.0</td>\n",
       "      <td>25.0</td>\n",
       "    </tr>\n",
       "    <tr>\n",
       "      <th>2022-03-11</th>\n",
       "      <td>31.0</td>\n",
       "      <td>1.0</td>\n",
       "      <td>244.0</td>\n",
       "    </tr>\n",
       "    <tr>\n",
       "      <th>2022-04-07</th>\n",
       "      <td>35.0</td>\n",
       "      <td>1.0</td>\n",
       "      <td>62.0</td>\n",
       "    </tr>\n",
       "  </tbody>\n",
       "</table>\n",
       "<p>100 rows × 3 columns</p>\n",
       "</div>"
      ],
      "text/plain": [
       "            score_player_1  score_player_2  score_player_3\n",
       "2022-03-20            11.0           240.0           108.0\n",
       "2022-03-03            33.0           228.0            26.0\n",
       "2022-01-17            32.0           213.0             4.0\n",
       "2022-02-18           109.0           189.0           208.0\n",
       "2022-02-06            13.0           189.0            97.0\n",
       "...                    ...             ...             ...\n",
       "2022-04-01            73.0             6.0             5.0\n",
       "2022-04-10            87.0             6.0            13.0\n",
       "2022-03-10           150.0             3.0            25.0\n",
       "2022-03-11            31.0             1.0           244.0\n",
       "2022-04-07            35.0             1.0            62.0\n",
       "\n",
       "[100 rows x 3 columns]"
      ]
     },
     "execution_count": 253,
     "metadata": {},
     "output_type": "execute_result"
    }
   ],
   "source": [
    "df_scores.sort_values('score_player_2', ascending=False) # False -> d\"croissant"
   ]
  },
  {
   "cell_type": "markdown",
   "id": "d4acb4e7",
   "metadata": {},
   "source": [
    "#### f. Tri selon un index"
   ]
  },
  {
   "cell_type": "code",
   "execution_count": 254,
   "id": "806f274c",
   "metadata": {},
   "outputs": [
    {
     "data": {
      "text/html": [
       "<div>\n",
       "<style scoped>\n",
       "    .dataframe tbody tr th:only-of-type {\n",
       "        vertical-align: middle;\n",
       "    }\n",
       "\n",
       "    .dataframe tbody tr th {\n",
       "        vertical-align: top;\n",
       "    }\n",
       "\n",
       "    .dataframe thead th {\n",
       "        text-align: right;\n",
       "    }\n",
       "</style>\n",
       "<table border=\"1\" class=\"dataframe\">\n",
       "  <thead>\n",
       "    <tr style=\"text-align: right;\">\n",
       "      <th></th>\n",
       "      <th>score_player_1</th>\n",
       "      <th>score_player_2</th>\n",
       "      <th>score_player_3</th>\n",
       "    </tr>\n",
       "  </thead>\n",
       "  <tbody>\n",
       "    <tr>\n",
       "      <th>2022-04-10</th>\n",
       "      <td>87.0</td>\n",
       "      <td>6.0</td>\n",
       "      <td>13.0</td>\n",
       "    </tr>\n",
       "    <tr>\n",
       "      <th>2022-04-09</th>\n",
       "      <td>141.0</td>\n",
       "      <td>60.0</td>\n",
       "      <td>2.0</td>\n",
       "    </tr>\n",
       "    <tr>\n",
       "      <th>2022-04-08</th>\n",
       "      <td>26.0</td>\n",
       "      <td>62.0</td>\n",
       "      <td>56.0</td>\n",
       "    </tr>\n",
       "    <tr>\n",
       "      <th>2022-04-07</th>\n",
       "      <td>35.0</td>\n",
       "      <td>1.0</td>\n",
       "      <td>62.0</td>\n",
       "    </tr>\n",
       "    <tr>\n",
       "      <th>2022-04-06</th>\n",
       "      <td>49.0</td>\n",
       "      <td>101.0</td>\n",
       "      <td>49.0</td>\n",
       "    </tr>\n",
       "    <tr>\n",
       "      <th>...</th>\n",
       "      <td>...</td>\n",
       "      <td>...</td>\n",
       "      <td>...</td>\n",
       "    </tr>\n",
       "    <tr>\n",
       "      <th>2022-01-05</th>\n",
       "      <td>32.0</td>\n",
       "      <td>132.0</td>\n",
       "      <td>89.0</td>\n",
       "    </tr>\n",
       "    <tr>\n",
       "      <th>2022-01-04</th>\n",
       "      <td>92.0</td>\n",
       "      <td>41.0</td>\n",
       "      <td>37.0</td>\n",
       "    </tr>\n",
       "    <tr>\n",
       "      <th>2022-01-03</th>\n",
       "      <td>31.0</td>\n",
       "      <td>36.0</td>\n",
       "      <td>96.0</td>\n",
       "    </tr>\n",
       "    <tr>\n",
       "      <th>2022-01-02</th>\n",
       "      <td>30.0</td>\n",
       "      <td>22.0</td>\n",
       "      <td>59.0</td>\n",
       "    </tr>\n",
       "    <tr>\n",
       "      <th>2022-01-01</th>\n",
       "      <td>130.0</td>\n",
       "      <td>9.0</td>\n",
       "      <td>123.0</td>\n",
       "    </tr>\n",
       "  </tbody>\n",
       "</table>\n",
       "<p>100 rows × 3 columns</p>\n",
       "</div>"
      ],
      "text/plain": [
       "            score_player_1  score_player_2  score_player_3\n",
       "2022-04-10            87.0             6.0            13.0\n",
       "2022-04-09           141.0            60.0             2.0\n",
       "2022-04-08            26.0            62.0            56.0\n",
       "2022-04-07            35.0             1.0            62.0\n",
       "2022-04-06            49.0           101.0            49.0\n",
       "...                    ...             ...             ...\n",
       "2022-01-05            32.0           132.0            89.0\n",
       "2022-01-04            92.0            41.0            37.0\n",
       "2022-01-03            31.0            36.0            96.0\n",
       "2022-01-02            30.0            22.0            59.0\n",
       "2022-01-01           130.0             9.0           123.0\n",
       "\n",
       "[100 rows x 3 columns]"
      ]
     },
     "execution_count": 254,
     "metadata": {},
     "output_type": "execute_result"
    }
   ],
   "source": [
    "df_scores.sort_index(ascending=False)"
   ]
  },
  {
   "cell_type": "markdown",
   "id": "eb2abbdd",
   "metadata": {},
   "source": [
    "### 2. Sélection dans une `Dataframe`"
   ]
  },
  {
   "cell_type": "markdown",
   "id": "4aa80b93",
   "metadata": {},
   "source": [
    "#### a. Sélection via `___get_item__`"
   ]
  },
  {
   "cell_type": "markdown",
   "id": "bccd736f",
   "metadata": {},
   "source": [
    "**Avec des entiers**"
   ]
  },
  {
   "cell_type": "code",
   "execution_count": 255,
   "id": "a4a0d9ba",
   "metadata": {},
   "outputs": [
    {
     "data": {
      "text/html": [
       "<div>\n",
       "<style scoped>\n",
       "    .dataframe tbody tr th:only-of-type {\n",
       "        vertical-align: middle;\n",
       "    }\n",
       "\n",
       "    .dataframe tbody tr th {\n",
       "        vertical-align: top;\n",
       "    }\n",
       "\n",
       "    .dataframe thead th {\n",
       "        text-align: right;\n",
       "    }\n",
       "</style>\n",
       "<table border=\"1\" class=\"dataframe\">\n",
       "  <thead>\n",
       "    <tr style=\"text-align: right;\">\n",
       "      <th></th>\n",
       "      <th>country</th>\n",
       "      <th>year</th>\n",
       "      <th>iso_code</th>\n",
       "      <th>population</th>\n",
       "      <th>gdp</th>\n",
       "      <th>co2</th>\n",
       "    </tr>\n",
       "  </thead>\n",
       "  <tbody>\n",
       "    <tr>\n",
       "      <th>0</th>\n",
       "      <td>Afghanistan</td>\n",
       "      <td>1850</td>\n",
       "      <td>AFG</td>\n",
       "      <td>3752993.0</td>\n",
       "      <td>NaN</td>\n",
       "      <td>NaN</td>\n",
       "    </tr>\n",
       "    <tr>\n",
       "      <th>1</th>\n",
       "      <td>Afghanistan</td>\n",
       "      <td>1851</td>\n",
       "      <td>AFG</td>\n",
       "      <td>3769828.0</td>\n",
       "      <td>NaN</td>\n",
       "      <td>NaN</td>\n",
       "    </tr>\n",
       "    <tr>\n",
       "      <th>2</th>\n",
       "      <td>Afghanistan</td>\n",
       "      <td>1852</td>\n",
       "      <td>AFG</td>\n",
       "      <td>3787706.0</td>\n",
       "      <td>NaN</td>\n",
       "      <td>NaN</td>\n",
       "    </tr>\n",
       "  </tbody>\n",
       "</table>\n",
       "</div>"
      ],
      "text/plain": [
       "       country  year iso_code  population  gdp  co2\n",
       "0  Afghanistan  1850      AFG   3752993.0  NaN  NaN\n",
       "1  Afghanistan  1851      AFG   3769828.0  NaN  NaN\n",
       "2  Afghanistan  1852      AFG   3787706.0  NaN  NaN"
      ]
     },
     "execution_count": 255,
     "metadata": {},
     "output_type": "execute_result"
    }
   ],
   "source": [
    "df[0:3]"
   ]
  },
  {
   "cell_type": "markdown",
   "id": "56672df2",
   "metadata": {},
   "source": [
    "**Avec des dates**"
   ]
  },
  {
   "cell_type": "code",
   "execution_count": 256,
   "id": "65d61ce5",
   "metadata": {},
   "outputs": [
    {
     "data": {
      "text/html": [
       "<div>\n",
       "<style scoped>\n",
       "    .dataframe tbody tr th:only-of-type {\n",
       "        vertical-align: middle;\n",
       "    }\n",
       "\n",
       "    .dataframe tbody tr th {\n",
       "        vertical-align: top;\n",
       "    }\n",
       "\n",
       "    .dataframe thead th {\n",
       "        text-align: right;\n",
       "    }\n",
       "</style>\n",
       "<table border=\"1\" class=\"dataframe\">\n",
       "  <thead>\n",
       "    <tr style=\"text-align: right;\">\n",
       "      <th></th>\n",
       "      <th>score_player_1</th>\n",
       "      <th>score_player_2</th>\n",
       "      <th>score_player_3</th>\n",
       "    </tr>\n",
       "  </thead>\n",
       "  <tbody>\n",
       "    <tr>\n",
       "      <th>2022-01-01</th>\n",
       "      <td>130.0</td>\n",
       "      <td>9.0</td>\n",
       "      <td>123.0</td>\n",
       "    </tr>\n",
       "    <tr>\n",
       "      <th>2022-01-02</th>\n",
       "      <td>30.0</td>\n",
       "      <td>22.0</td>\n",
       "      <td>59.0</td>\n",
       "    </tr>\n",
       "    <tr>\n",
       "      <th>2022-01-03</th>\n",
       "      <td>31.0</td>\n",
       "      <td>36.0</td>\n",
       "      <td>96.0</td>\n",
       "    </tr>\n",
       "    <tr>\n",
       "      <th>2022-01-04</th>\n",
       "      <td>92.0</td>\n",
       "      <td>41.0</td>\n",
       "      <td>37.0</td>\n",
       "    </tr>\n",
       "    <tr>\n",
       "      <th>2022-01-05</th>\n",
       "      <td>32.0</td>\n",
       "      <td>132.0</td>\n",
       "      <td>89.0</td>\n",
       "    </tr>\n",
       "    <tr>\n",
       "      <th>2022-01-06</th>\n",
       "      <td>148.0</td>\n",
       "      <td>46.0</td>\n",
       "      <td>117.0</td>\n",
       "    </tr>\n",
       "    <tr>\n",
       "      <th>2022-01-07</th>\n",
       "      <td>127.0</td>\n",
       "      <td>83.0</td>\n",
       "      <td>31.0</td>\n",
       "    </tr>\n",
       "    <tr>\n",
       "      <th>2022-01-08</th>\n",
       "      <td>91.0</td>\n",
       "      <td>35.0</td>\n",
       "      <td>51.0</td>\n",
       "    </tr>\n",
       "    <tr>\n",
       "      <th>2022-01-09</th>\n",
       "      <td>44.0</td>\n",
       "      <td>92.0</td>\n",
       "      <td>50.0</td>\n",
       "    </tr>\n",
       "    <tr>\n",
       "      <th>2022-01-10</th>\n",
       "      <td>185.0</td>\n",
       "      <td>127.0</td>\n",
       "      <td>31.0</td>\n",
       "    </tr>\n",
       "  </tbody>\n",
       "</table>\n",
       "</div>"
      ],
      "text/plain": [
       "            score_player_1  score_player_2  score_player_3\n",
       "2022-01-01           130.0             9.0           123.0\n",
       "2022-01-02            30.0            22.0            59.0\n",
       "2022-01-03            31.0            36.0            96.0\n",
       "2022-01-04            92.0            41.0            37.0\n",
       "2022-01-05            32.0           132.0            89.0\n",
       "2022-01-06           148.0            46.0           117.0\n",
       "2022-01-07           127.0            83.0            31.0\n",
       "2022-01-08            91.0            35.0            51.0\n",
       "2022-01-09            44.0            92.0            50.0\n",
       "2022-01-10           185.0           127.0            31.0"
      ]
     },
     "execution_count": 256,
     "metadata": {},
     "output_type": "execute_result"
    }
   ],
   "source": [
    "datetime_1 = datetime.datetime(2022, 1, 1)\n",
    "datetime_2 = datetime.datetime(2022, 1, 10)\n",
    "df_scores[datetime_1:datetime_2]"
   ]
  },
  {
   "cell_type": "markdown",
   "id": "f84be008",
   "metadata": {},
   "source": [
    "#### a. Sélection avec le label "
   ]
  },
  {
   "cell_type": "markdown",
   "id": "8b9993fa",
   "metadata": {},
   "source": [
    "**Label entier**"
   ]
  },
  {
   "cell_type": "code",
   "execution_count": 257,
   "id": "02a68828",
   "metadata": {},
   "outputs": [
    {
     "data": {
      "text/plain": [
       "country       Afghanistan\n",
       "year                 1895\n",
       "iso_code              AFG\n",
       "population      4691426.0\n",
       "gdp                   NaN\n",
       "co2                   NaN\n",
       "Name: 45, dtype: object"
      ]
     },
     "execution_count": 257,
     "metadata": {},
     "output_type": "execute_result"
    }
   ],
   "source": [
    "df.loc[45]"
   ]
  },
  {
   "cell_type": "markdown",
   "id": "ca857e20",
   "metadata": {},
   "source": [
    "**Label de type `datetime`**"
   ]
  },
  {
   "cell_type": "code",
   "execution_count": 261,
   "id": "084c6fe0",
   "metadata": {},
   "outputs": [
    {
     "data": {
      "text/plain": [
       "score_player_1    130.0\n",
       "score_player_2      9.0\n",
       "score_player_3    123.0\n",
       "Name: 2022-01-01 00:00:00, dtype: float64"
      ]
     },
     "execution_count": 261,
     "metadata": {},
     "output_type": "execute_result"
    }
   ],
   "source": [
    "df_scores.loc[datetime.datetime(2022, 1, 1)]"
   ]
  },
  {
   "cell_type": "markdown",
   "id": "ad123e9b",
   "metadata": {},
   "source": [
    "**🚨 Les deux bornes sont incluses pour l'index**"
   ]
  },
  {
   "cell_type": "code",
   "execution_count": 284,
   "id": "5a63d1b1",
   "metadata": {},
   "outputs": [
    {
     "data": {
      "text/html": [
       "<div>\n",
       "<style scoped>\n",
       "    .dataframe tbody tr th:only-of-type {\n",
       "        vertical-align: middle;\n",
       "    }\n",
       "\n",
       "    .dataframe tbody tr th {\n",
       "        vertical-align: top;\n",
       "    }\n",
       "\n",
       "    .dataframe thead th {\n",
       "        text-align: right;\n",
       "    }\n",
       "</style>\n",
       "<table border=\"1\" class=\"dataframe\">\n",
       "  <thead>\n",
       "    <tr style=\"text-align: right;\">\n",
       "      <th></th>\n",
       "      <th>score_player_1</th>\n",
       "      <th>score_player_2</th>\n",
       "      <th>score_player_3</th>\n",
       "    </tr>\n",
       "  </thead>\n",
       "  <tbody>\n",
       "    <tr>\n",
       "      <th>2022-01-01</th>\n",
       "      <td>130.0</td>\n",
       "      <td>9.0</td>\n",
       "      <td>123.0</td>\n",
       "    </tr>\n",
       "    <tr>\n",
       "      <th>2022-01-02</th>\n",
       "      <td>30.0</td>\n",
       "      <td>22.0</td>\n",
       "      <td>59.0</td>\n",
       "    </tr>\n",
       "    <tr>\n",
       "      <th>2022-01-03</th>\n",
       "      <td>31.0</td>\n",
       "      <td>36.0</td>\n",
       "      <td>96.0</td>\n",
       "    </tr>\n",
       "  </tbody>\n",
       "</table>\n",
       "</div>"
      ],
      "text/plain": [
       "            score_player_1  score_player_2  score_player_3\n",
       "2022-01-01           130.0             9.0           123.0\n",
       "2022-01-02            30.0            22.0            59.0\n",
       "2022-01-03            31.0            36.0            96.0"
      ]
     },
     "execution_count": 284,
     "metadata": {},
     "output_type": "execute_result"
    }
   ],
   "source": [
    "df_scores.loc[datetime.datetime(2022, 1, 1):datetime.datetime(2022, 1, 3)]"
   ]
  },
  {
   "cell_type": "markdown",
   "id": "7b14c562",
   "metadata": {},
   "source": [
    "**Selection simultanée des colonnes**"
   ]
  },
  {
   "cell_type": "code",
   "execution_count": 285,
   "id": "11c5c807",
   "metadata": {},
   "outputs": [
    {
     "data": {
      "text/html": [
       "<div>\n",
       "<style scoped>\n",
       "    .dataframe tbody tr th:only-of-type {\n",
       "        vertical-align: middle;\n",
       "    }\n",
       "\n",
       "    .dataframe tbody tr th {\n",
       "        vertical-align: top;\n",
       "    }\n",
       "\n",
       "    .dataframe thead th {\n",
       "        text-align: right;\n",
       "    }\n",
       "</style>\n",
       "<table border=\"1\" class=\"dataframe\">\n",
       "  <thead>\n",
       "    <tr style=\"text-align: right;\">\n",
       "      <th></th>\n",
       "      <th>score_player_1</th>\n",
       "      <th>score_player_2</th>\n",
       "    </tr>\n",
       "  </thead>\n",
       "  <tbody>\n",
       "    <tr>\n",
       "      <th>2022-01-01</th>\n",
       "      <td>130.0</td>\n",
       "      <td>9.0</td>\n",
       "    </tr>\n",
       "    <tr>\n",
       "      <th>2022-01-02</th>\n",
       "      <td>30.0</td>\n",
       "      <td>22.0</td>\n",
       "    </tr>\n",
       "    <tr>\n",
       "      <th>2022-01-03</th>\n",
       "      <td>31.0</td>\n",
       "      <td>36.0</td>\n",
       "    </tr>\n",
       "    <tr>\n",
       "      <th>2022-01-04</th>\n",
       "      <td>92.0</td>\n",
       "      <td>41.0</td>\n",
       "    </tr>\n",
       "    <tr>\n",
       "      <th>2022-01-05</th>\n",
       "      <td>32.0</td>\n",
       "      <td>132.0</td>\n",
       "    </tr>\n",
       "    <tr>\n",
       "      <th>...</th>\n",
       "      <td>...</td>\n",
       "      <td>...</td>\n",
       "    </tr>\n",
       "    <tr>\n",
       "      <th>2022-04-06</th>\n",
       "      <td>49.0</td>\n",
       "      <td>101.0</td>\n",
       "    </tr>\n",
       "    <tr>\n",
       "      <th>2022-04-07</th>\n",
       "      <td>35.0</td>\n",
       "      <td>1.0</td>\n",
       "    </tr>\n",
       "    <tr>\n",
       "      <th>2022-04-08</th>\n",
       "      <td>26.0</td>\n",
       "      <td>62.0</td>\n",
       "    </tr>\n",
       "    <tr>\n",
       "      <th>2022-04-09</th>\n",
       "      <td>141.0</td>\n",
       "      <td>60.0</td>\n",
       "    </tr>\n",
       "    <tr>\n",
       "      <th>2022-04-10</th>\n",
       "      <td>87.0</td>\n",
       "      <td>6.0</td>\n",
       "    </tr>\n",
       "  </tbody>\n",
       "</table>\n",
       "<p>100 rows × 2 columns</p>\n",
       "</div>"
      ],
      "text/plain": [
       "            score_player_1  score_player_2\n",
       "2022-01-01           130.0             9.0\n",
       "2022-01-02            30.0            22.0\n",
       "2022-01-03            31.0            36.0\n",
       "2022-01-04            92.0            41.0\n",
       "2022-01-05            32.0           132.0\n",
       "...                    ...             ...\n",
       "2022-04-06            49.0           101.0\n",
       "2022-04-07            35.0             1.0\n",
       "2022-04-08            26.0            62.0\n",
       "2022-04-09           141.0            60.0\n",
       "2022-04-10            87.0             6.0\n",
       "\n",
       "[100 rows x 2 columns]"
      ]
     },
     "execution_count": 285,
     "metadata": {},
     "output_type": "execute_result"
    }
   ],
   "source": [
    "df_scores.loc[:, [\"score_player_1\", \"score_player_2\"]]"
   ]
  },
  {
   "cell_type": "markdown",
   "id": "444998b8",
   "metadata": {},
   "source": [
    "**Accès à la valeur**"
   ]
  },
  {
   "cell_type": "code",
   "execution_count": 286,
   "id": "0421ace3",
   "metadata": {},
   "outputs": [
    {
     "data": {
      "text/plain": [
       "'Afghanistan'"
      ]
     },
     "execution_count": 286,
     "metadata": {},
     "output_type": "execute_result"
    }
   ],
   "source": [
    "df.loc[45,  \"country\"]"
   ]
  },
  {
   "cell_type": "markdown",
   "id": "36ee0806",
   "metadata": {},
   "source": [
    "#### b. Sélection avec la position"
   ]
  },
  {
   "cell_type": "code",
   "execution_count": 297,
   "id": "6bdddc5b",
   "metadata": {},
   "outputs": [
    {
     "data": {
      "text/plain": [
       "country       Afghanistan\n",
       "year                 1854\n",
       "iso_code              AFG\n",
       "population      3825655.0\n",
       "gdp                   NaN\n",
       "co2                   NaN\n",
       "Name: 4, dtype: object"
      ]
     },
     "execution_count": 297,
     "metadata": {},
     "output_type": "execute_result"
    }
   ],
   "source": [
    "df.iloc[4] ## 4 ème ligne"
   ]
  },
  {
   "cell_type": "markdown",
   "id": "789917f0",
   "metadata": {},
   "source": [
    "**🚨 Les deux bornes sont incluses pour l'index  des lignes (comme pour `.loc`)**"
   ]
  },
  {
   "cell_type": "code",
   "execution_count": 298,
   "id": "81fcab5b",
   "metadata": {},
   "outputs": [
    {
     "data": {
      "text/html": [
       "<div>\n",
       "<style scoped>\n",
       "    .dataframe tbody tr th:only-of-type {\n",
       "        vertical-align: middle;\n",
       "    }\n",
       "\n",
       "    .dataframe tbody tr th {\n",
       "        vertical-align: top;\n",
       "    }\n",
       "\n",
       "    .dataframe thead th {\n",
       "        text-align: right;\n",
       "    }\n",
       "</style>\n",
       "<table border=\"1\" class=\"dataframe\">\n",
       "  <thead>\n",
       "    <tr style=\"text-align: right;\">\n",
       "      <th></th>\n",
       "      <th>score_player_1</th>\n",
       "      <th>score_player_2</th>\n",
       "      <th>score_player_3</th>\n",
       "    </tr>\n",
       "  </thead>\n",
       "  <tbody>\n",
       "    <tr>\n",
       "      <th>2022-01-05</th>\n",
       "      <td>32.0</td>\n",
       "      <td>132.0</td>\n",
       "      <td>89.0</td>\n",
       "    </tr>\n",
       "    <tr>\n",
       "      <th>2022-01-06</th>\n",
       "      <td>148.0</td>\n",
       "      <td>46.0</td>\n",
       "      <td>117.0</td>\n",
       "    </tr>\n",
       "  </tbody>\n",
       "</table>\n",
       "</div>"
      ],
      "text/plain": [
       "            score_player_1  score_player_2  score_player_3\n",
       "2022-01-05            32.0           132.0            89.0\n",
       "2022-01-06           148.0            46.0           117.0"
      ]
     },
     "execution_count": 298,
     "metadata": {},
     "output_type": "execute_result"
    }
   ],
   "source": [
    "df_scores.iloc[4:6] "
   ]
  },
  {
   "cell_type": "markdown",
   "id": "1f8e2870",
   "metadata": {},
   "source": [
    "**🚨 Les deux bornes NE sont PAS incluses pour les indexes des colonnes**"
   ]
  },
  {
   "cell_type": "code",
   "execution_count": 299,
   "id": "83fb8660",
   "metadata": {},
   "outputs": [
    {
     "data": {
      "text/html": [
       "<div>\n",
       "<style scoped>\n",
       "    .dataframe tbody tr th:only-of-type {\n",
       "        vertical-align: middle;\n",
       "    }\n",
       "\n",
       "    .dataframe tbody tr th {\n",
       "        vertical-align: top;\n",
       "    }\n",
       "\n",
       "    .dataframe thead th {\n",
       "        text-align: right;\n",
       "    }\n",
       "</style>\n",
       "<table border=\"1\" class=\"dataframe\">\n",
       "  <thead>\n",
       "    <tr style=\"text-align: right;\">\n",
       "      <th></th>\n",
       "      <th>score_player_1</th>\n",
       "    </tr>\n",
       "  </thead>\n",
       "  <tbody>\n",
       "    <tr>\n",
       "      <th>2022-01-05</th>\n",
       "      <td>32.0</td>\n",
       "    </tr>\n",
       "    <tr>\n",
       "      <th>2022-01-06</th>\n",
       "      <td>148.0</td>\n",
       "    </tr>\n",
       "  </tbody>\n",
       "</table>\n",
       "</div>"
      ],
      "text/plain": [
       "            score_player_1\n",
       "2022-01-05            32.0\n",
       "2022-01-06           148.0"
      ]
     },
     "execution_count": 299,
     "metadata": {},
     "output_type": "execute_result"
    }
   ],
   "source": [
    "df_scores.iloc[4:6, 0:1] "
   ]
  },
  {
   "cell_type": "markdown",
   "id": "cc256bd1",
   "metadata": {},
   "source": [
    "### 3. Indexes booléens dans une DataFrame"
   ]
  },
  {
   "cell_type": "markdown",
   "id": "d6c8f986",
   "metadata": {},
   "source": [
    "#### a. Condition simple"
   ]
  },
  {
   "cell_type": "code",
   "execution_count": 301,
   "id": "cc330f1a",
   "metadata": {},
   "outputs": [
    {
     "data": {
      "text/html": [
       "<div>\n",
       "<style scoped>\n",
       "    .dataframe tbody tr th:only-of-type {\n",
       "        vertical-align: middle;\n",
       "    }\n",
       "\n",
       "    .dataframe tbody tr th {\n",
       "        vertical-align: top;\n",
       "    }\n",
       "\n",
       "    .dataframe thead th {\n",
       "        text-align: right;\n",
       "    }\n",
       "</style>\n",
       "<table border=\"1\" class=\"dataframe\">\n",
       "  <thead>\n",
       "    <tr style=\"text-align: right;\">\n",
       "      <th></th>\n",
       "      <th>country</th>\n",
       "      <th>year</th>\n",
       "      <th>iso_code</th>\n",
       "      <th>population</th>\n",
       "      <th>gdp</th>\n",
       "      <th>co2</th>\n",
       "    </tr>\n",
       "  </thead>\n",
       "  <tbody>\n",
       "    <tr>\n",
       "      <th>151</th>\n",
       "      <td>Afghanistan</td>\n",
       "      <td>2001</td>\n",
       "      <td>AFG</td>\n",
       "      <td>1.968863e+07</td>\n",
       "      <td>1.102127e+10</td>\n",
       "      <td>1.069</td>\n",
       "    </tr>\n",
       "    <tr>\n",
       "      <th>423</th>\n",
       "      <td>Africa</td>\n",
       "      <td>2001</td>\n",
       "      <td>NaN</td>\n",
       "      <td>8.394641e+08</td>\n",
       "      <td>NaN</td>\n",
       "      <td>884.000</td>\n",
       "    </tr>\n",
       "    <tr>\n",
       "      <th>595</th>\n",
       "      <td>Africa (GCP)</td>\n",
       "      <td>2001</td>\n",
       "      <td>NaN</td>\n",
       "      <td>NaN</td>\n",
       "      <td>NaN</td>\n",
       "      <td>883.989</td>\n",
       "    </tr>\n",
       "    <tr>\n",
       "      <th>767</th>\n",
       "      <td>Aland Islands</td>\n",
       "      <td>2001</td>\n",
       "      <td>ALA</td>\n",
       "      <td>NaN</td>\n",
       "      <td>NaN</td>\n",
       "      <td>NaN</td>\n",
       "    </tr>\n",
       "    <tr>\n",
       "      <th>939</th>\n",
       "      <td>Albania</td>\n",
       "      <td>2001</td>\n",
       "      <td>ALB</td>\n",
       "      <td>3.153615e+06</td>\n",
       "      <td>1.656384e+10</td>\n",
       "      <td>3.221</td>\n",
       "    </tr>\n",
       "    <tr>\n",
       "      <th>...</th>\n",
       "      <td>...</td>\n",
       "      <td>...</td>\n",
       "      <td>...</td>\n",
       "      <td>...</td>\n",
       "      <td>...</td>\n",
       "      <td>...</td>\n",
       "    </tr>\n",
       "    <tr>\n",
       "      <th>45714</th>\n",
       "      <td>Western Sahara</td>\n",
       "      <td>2001</td>\n",
       "      <td>ESH</td>\n",
       "      <td>2.838150e+05</td>\n",
       "      <td>NaN</td>\n",
       "      <td>NaN</td>\n",
       "    </tr>\n",
       "    <tr>\n",
       "      <th>45986</th>\n",
       "      <td>World</td>\n",
       "      <td>2001</td>\n",
       "      <td>NaN</td>\n",
       "      <td>6.230747e+09</td>\n",
       "      <td>NaN</td>\n",
       "      <td>25668.049</td>\n",
       "    </tr>\n",
       "    <tr>\n",
       "      <th>46158</th>\n",
       "      <td>Yemen</td>\n",
       "      <td>2001</td>\n",
       "      <td>YEM</td>\n",
       "      <td>1.914346e+07</td>\n",
       "      <td>8.072660e+10</td>\n",
       "      <td>16.017</td>\n",
       "    </tr>\n",
       "    <tr>\n",
       "      <th>46330</th>\n",
       "      <td>Zambia</td>\n",
       "      <td>2001</td>\n",
       "      <td>ZMB</td>\n",
       "      <td>1.019197e+07</td>\n",
       "      <td>1.623440e+10</td>\n",
       "      <td>1.886</td>\n",
       "    </tr>\n",
       "    <tr>\n",
       "      <th>46502</th>\n",
       "      <td>Zimbabwe</td>\n",
       "      <td>2001</td>\n",
       "      <td>ZWE</td>\n",
       "      <td>1.191098e+07</td>\n",
       "      <td>2.678117e+10</td>\n",
       "      <td>12.509</td>\n",
       "    </tr>\n",
       "  </tbody>\n",
       "</table>\n",
       "<p>260 rows × 6 columns</p>\n",
       "</div>"
      ],
      "text/plain": [
       "              country  year iso_code    population           gdp        co2\n",
       "151       Afghanistan  2001      AFG  1.968863e+07  1.102127e+10      1.069\n",
       "423            Africa  2001      NaN  8.394641e+08           NaN    884.000\n",
       "595      Africa (GCP)  2001      NaN           NaN           NaN    883.989\n",
       "767     Aland Islands  2001      ALA           NaN           NaN        NaN\n",
       "939           Albania  2001      ALB  3.153615e+06  1.656384e+10      3.221\n",
       "...               ...   ...      ...           ...           ...        ...\n",
       "45714  Western Sahara  2001      ESH  2.838150e+05           NaN        NaN\n",
       "45986           World  2001      NaN  6.230747e+09           NaN  25668.049\n",
       "46158           Yemen  2001      YEM  1.914346e+07  8.072660e+10     16.017\n",
       "46330          Zambia  2001      ZMB  1.019197e+07  1.623440e+10      1.886\n",
       "46502        Zimbabwe  2001      ZWE  1.191098e+07  2.678117e+10     12.509\n",
       "\n",
       "[260 rows x 6 columns]"
      ]
     },
     "execution_count": 301,
     "metadata": {},
     "output_type": "execute_result"
    }
   ],
   "source": [
    "df[df.year==2001]"
   ]
  },
  {
   "cell_type": "markdown",
   "id": "0aee504f",
   "metadata": {},
   "source": [
    "### 4. Données manquantes"
   ]
  },
  {
   "cell_type": "markdown",
   "id": "4017c245",
   "metadata": {},
   "source": [
    "### 5. Opérations"
   ]
  },
  {
   "cell_type": "markdown",
   "id": "90ad3c6b",
   "metadata": {},
   "source": [
    "#### a. Statistiques pour variables numériques"
   ]
  },
  {
   "cell_type": "markdown",
   "id": "49166074",
   "metadata": {},
   "source": [
    "#### b. Statistiques pour variables catégorielles"
   ]
  },
  {
   "cell_type": "markdown",
   "id": "fcc3134a",
   "metadata": {},
   "source": [
    "#### c. Vectorisation"
   ]
  },
  {
   "cell_type": "markdown",
   "id": "d0224310",
   "metadata": {},
   "source": [
    "## B. Manipulations intermédiaires"
   ]
  },
  {
   "cell_type": "markdown",
   "id": "0dd46f50",
   "metadata": {},
   "source": [
    "### 1. Merge"
   ]
  },
  {
   "cell_type": "markdown",
   "id": "33681652",
   "metadata": {},
   "source": [
    "### 2. Aggrégation"
   ]
  },
  {
   "cell_type": "code",
   "execution_count": 259,
   "id": "9ce6611d",
   "metadata": {},
   "outputs": [
    {
     "data": {
      "text/plain": [
       "country          0\n",
       "year             0\n",
       "iso_code       623\n",
       "population     414\n",
       "gdp           2486\n",
       "co2            253\n",
       "dtype: int64"
      ]
     },
     "execution_count": 259,
     "metadata": {},
     "output_type": "execute_result"
    }
   ],
   "source": [
    "df[df.year>2000].isnull().sum()"
   ]
  },
  {
   "cell_type": "code",
   "execution_count": 138,
   "id": "4b117383",
   "metadata": {},
   "outputs": [
    {
     "data": {
      "text/plain": [
       "269"
      ]
     },
     "execution_count": 138,
     "metadata": {},
     "output_type": "execute_result"
    }
   ],
   "source": [
    "df.country.nunique()"
   ]
  },
  {
   "cell_type": "code",
   "execution_count": null,
   "id": "1eb88d98",
   "metadata": {},
   "outputs": [],
   "source": []
  },
  {
   "cell_type": "markdown",
   "id": "6d438e76",
   "metadata": {},
   "source": [
    "# Ressources (ardemment) conseillées\n",
    "\n",
    "\n",
    "- Illustrated Pandas\n",
    " - https://betterprogramming.pub/pandas-illustrated-the-definitive-visual-guide-to-pandas-c31fa921a43\n",
    "- Cours Python ENSAE Lino Galiana\n"
   ]
  },
  {
   "cell_type": "code",
   "execution_count": null,
   "id": "f0febb16",
   "metadata": {},
   "outputs": [],
   "source": []
  }
 ],
 "metadata": {
  "kernelspec": {
   "display_name": "Python 3 (ipykernel)",
   "language": "python",
   "name": "python3"
  },
  "language_info": {
   "codemirror_mode": {
    "name": "ipython",
    "version": 3
   },
   "file_extension": ".py",
   "mimetype": "text/x-python",
   "name": "python",
   "nbconvert_exporter": "python",
   "pygments_lexer": "ipython3",
   "version": "3.9.7"
  }
 },
 "nbformat": 4,
 "nbformat_minor": 5
}
